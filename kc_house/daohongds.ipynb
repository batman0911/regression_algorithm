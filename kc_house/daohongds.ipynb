{
 "cells": [
  {
   "cell_type": "code",
   "execution_count": 1,
   "metadata": {
    "collapsed": true,
    "pycharm": {
     "name": "#%%\n"
    }
   },
   "outputs": [],
   "source": [
    "from utils import *\n",
    "from sklearn.model_selection import train_test_split"
   ]
  },
  {
   "cell_type": "code",
   "execution_count": 2,
   "outputs": [],
   "source": [
    "X, y = load_data('../data/input/kc_house_data.csv')\n",
    "y = y/1e6\n",
    "# print(X[:5,:])\n",
    "# print(y[:5])\n",
    "one = np.ones((X.shape[0],1))\n",
    "X = np.concatenate((one,X), axis=1)\n",
    "X_train,X_test,y_train,y_test = train_test_split(X,y,test_size=0.2, random_state=42)"
   ],
   "metadata": {
    "collapsed": false,
    "pycharm": {
     "name": "#%%\n"
    }
   }
  },
  {
   "cell_type": "code",
   "execution_count": 3,
   "outputs": [
    {
     "name": "stdout",
     "output_type": "stream",
     "text": [
      "(17277, 16)\n",
      "(17277, 1)\n"
     ]
    }
   ],
   "source": [
    "print(X_train.shape)\n",
    "print(y_train.shape)"
   ],
   "metadata": {
    "collapsed": false,
    "pycharm": {
     "name": "#%%\n"
    }
   }
  },
  {
   "cell_type": "code",
   "execution_count": 4,
   "outputs": [],
   "source": [
    "# import time\n",
    "#\n",
    "# w_init = np.zeros((X_train.shape[1],1))\n",
    "# step_size = 0.5\n",
    "# check_after = 1\n",
    "# max_iter = 10000\n",
    "# tolerance = 1e-4\n",
    "#\n",
    "# t1 = time.time()\n",
    "# w, i, g, l = GD(X_train,y_train,w_init, step_size, check_after, max_iter, tolerance)\n",
    "# t2 = time.time()\n",
    "# y_hat = predict(X_test,w)\n",
    "# print(\"GD:\")\n",
    "# print(\"GD complete in \", t2-t1, \" s, after \", i, \" steps\")\n",
    "# # print(\"MSE : \",mean_squared_error(y_test, y_hat))\n",
    "# # print(\"Score : \",r2_score(y_test, y_hat))\n",
    "# print(f'grad norm: {g[-1]}, loss: {l[-1]}')\n",
    "# plot_data(g,l)"
   ],
   "metadata": {
    "collapsed": false,
    "pycharm": {
     "name": "#%%\n"
    }
   }
  },
  {
   "cell_type": "code",
   "execution_count": 5,
   "outputs": [
    {
     "name": "stdout",
     "output_type": "stream",
     "text": [
      "Newton:\n",
      "Newton complete in  0.002253293991088867  s, after  1  steps\n",
      "grad norm: 1.3551390521771511e-15, loss: 401.02311506569475, count: 1\n"
     ]
    }
   ],
   "source": [
    "import time\n",
    "\n",
    "w_init = np.zeros((X_train.shape[1],1))\n",
    "step_size = 1\n",
    "check_after = 1\n",
    "max_iter = 100\n",
    "tolerance = 1e-4\n",
    "\n",
    "t1 = time.time()\n",
    "w, i, g, l = Newton(X_train,y_train,w_init, check_after, max_iter, tolerance)\n",
    "t2 = time.time()\n",
    "y_hat = predict(X_test,w)\n",
    "print(\"Newton:\")\n",
    "print(\"Newton complete in \", t2-t1, \" s, after \", i, \" steps\")\n",
    "print(f'grad norm: {g[-1]}, loss: {l[-1]}, count: {i}')"
   ],
   "metadata": {
    "collapsed": false,
    "pycharm": {
     "name": "#%%\n"
    }
   }
  }
 ],
 "metadata": {
  "kernelspec": {
   "display_name": "Python 3",
   "language": "python",
   "name": "python3"
  },
  "language_info": {
   "codemirror_mode": {
    "name": "ipython",
    "version": 2
   },
   "file_extension": ".py",
   "mimetype": "text/x-python",
   "name": "python",
   "nbconvert_exporter": "python",
   "pygments_lexer": "ipython2",
   "version": "2.7.6"
  }
 },
 "nbformat": 4,
 "nbformat_minor": 0
}