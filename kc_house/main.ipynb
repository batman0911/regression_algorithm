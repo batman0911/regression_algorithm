{
 "cells": [
  {
   "cell_type": "code",
   "execution_count": 1,
   "metadata": {
    "collapsed": false,
    "pycharm": {
     "name": "#%%\n"
    }
   },
   "outputs": [],
   "source": [
    "import numpy as np\n",
    "import pandas as pd\n",
    "from sklearn.model_selection import train_test_split\n",
    "import regression as reg\n",
    "import matplotlib.pyplot as plt"
   ]
  },
  {
   "cell_type": "code",
   "execution_count": 2,
   "metadata": {
    "collapsed": false,
    "pycharm": {
     "name": "#%%\n"
    }
   },
   "outputs": [],
   "source": [
    "is_terminated = True"
   ]
  },
  {
   "cell_type": "code",
   "execution_count": 3,
   "metadata": {
    "collapsed": false,
    "pycharm": {
     "name": "#%%\n"
    }
   },
   "outputs": [],
   "source": [
    "def load_data():\n",
    "    df = pd.read_csv('../data/input/kc_house_data_cleaned.csv')\n",
    "\n",
    "    X = df[df.columns[range(15)]].to_numpy()\n",
    "    one = np.ones((X.shape[0], 1))\n",
    "    X = np.concatenate((one, X), axis=1)\n",
    "    y = df['price'].to_numpy()\n",
    "    # y = (y - np.min(y)) / (np.max(y) - np.min(y))\n",
    "    y = y/1e6\n",
    "    y = y.reshape((X.shape[0], 1))\n",
    "\n",
    "    return train_test_split(X, y, test_size=0.2, random_state=42)"
   ]
  },
  {
   "cell_type": "code",
   "execution_count": 4,
   "metadata": {
    "collapsed": false,
    "pycharm": {
     "name": "#%%\n"
    }
   },
   "outputs": [
    {
     "name": "stdout",
     "output_type": "stream",
     "text": [
      "X_train: (17277, 16), y_train: (17277, 1)\n",
      "X_test: (4320, 16), y_train: (4320, 1)\n"
     ]
    }
   ],
   "source": [
    "X_train, X_test, y_train, y_test = load_data()\n",
    "print(f'X_train: {X_train.shape}, y_train: {y_train.shape}')\n",
    "print(f'X_test: {X_test.shape}, y_train: {y_test.shape}')"
   ]
  },
  {
   "cell_type": "code",
   "execution_count": 5,
   "metadata": {
    "collapsed": false,
    "pycharm": {
     "name": "#%%\n"
    }
   },
   "outputs": [],
   "source": [
    "import matplotlib.pyplot as plt\n",
    "\n",
    "def plot_data(lm: reg.RegressionOpt):\n",
    "    plt.plot(range(len(lm.loss_func_list)), lm.loss_func_list)\n",
    "    plt.title(f'Loss function', fontsize=16)\n",
    "    plt.ylabel('Value', fontsize=16)\n",
    "    plt.xlabel('Count', fontsize=16)\n",
    "    plt.show()\n",
    "\n",
    "    plt.plot(range(len(lm.grad_norm_list)), lm.grad_norm_list)\n",
    "    plt.title(f'Gradient norm', fontsize=16)\n",
    "    plt.ylabel('Value', fontsize=16)\n",
    "    plt.xlabel('Count', fontsize=16)\n",
    "    plt.show()"
   ]
  },
  {
   "cell_type": "code",
   "execution_count": 6,
   "metadata": {
    "collapsed": false,
    "pycharm": {
     "name": "#%%\n"
    }
   },
   "outputs": [],
   "source": [
    "def save_data(lm: reg.RegressionOpt):\n",
    "    d = {\n",
    "        'loss_func_list': lm.loss_func_list,\n",
    "        'grad_norm_list': lm.grad_norm_list\n",
    "    }\n",
    "\n",
    "    df = pd.DataFrame(data=d)\n",
    "\n",
    "    file_name = 'lf_n_grn_' + str(lm.solver) + '_' + str(lm.step_size) + '.csv'\n",
    "    df.to_csv('../data/output/' + file_name, index=False)"
   ]
  },
  {
   "cell_type": "code",
   "execution_count": 7,
   "metadata": {
    "collapsed": false,
    "pycharm": {
     "name": "#%%\n"
    }
   },
   "outputs": [],
   "source": [
    "w_init = np.repeat(0, X_train.shape[1]).reshape((X_train.shape[1], 1))"
   ]
  },
  {
   "cell_type": "markdown",
   "metadata": {
    "collapsed": false,
    "pycharm": {
     "name": "#%% md\n"
    }
   },
   "source": [
    "GD method"
   ]
  },
  {
   "cell_type": "code",
   "execution_count": 8,
   "metadata": {
    "collapsed": false,
    "pycharm": {
     "name": "#%%\n"
    }
   },
   "outputs": [
    {
     "name": "stdout",
     "output_type": "stream",
     "text": [
      "count: 4358, gradient norm: 9.9977835163469e-05, loss func: 401.2248212288715\n"
     ]
    }
   ],
   "source": [
    "lm = reg.RegressionOpt(\n",
    "    solver='gd',\n",
    "    max_iter=10000,\n",
    "    w=w_init,\n",
    "    step_size=1,\n",
    "    X_train=X_train,\n",
    "    y_train=y_train,\n",
    "    X_test=X_test,\n",
    "    y_test=y_test,\n",
    "    terminate=is_terminated\n",
    ")\n",
    "\n",
    "w = lm.fit_gd()\n",
    "\n",
    "# plot_data(lm)\n",
    "\n",
    "# save_data(lm)\n",
    "\n",
    "print(f'count: {lm.count}, gradient norm: {lm.grad_norm_list[-1]}, loss func: {lm.loss_func_list[-1]}')\n",
    "# print(lm.w)"
   ]
  },
  {
   "cell_type": "markdown",
   "metadata": {
    "collapsed": false,
    "pycharm": {
     "name": "#%% md\n"
    }
   },
   "source": [
    "Newton method"
   ]
  },
  {
   "cell_type": "code",
   "execution_count": 9,
   "metadata": {
    "collapsed": false,
    "pycharm": {
     "name": "#%%\n"
    }
   },
   "outputs": [
    {
     "data": {
      "image/png": "[encoded data removed]",
      "text/plain": [
       "<Figure size 432x288 with 1 Axes>"
      ]
     },
     "metadata": {
      "needs_background": "light"
     },
     "output_type": "display_data"
    },
    {
     "data": {
      "image/png": "[encoded data removed]",
      "text/plain": [
       "<Figure size 432x288 with 1 Axes>"
      ]
     },
     "metadata": {
      "needs_background": "light"
     },
     "output_type": "display_data"
    },
    {
     "name": "stdout",
     "output_type": "stream",
     "text": [
      "count: 2, gradient norm: 1.7929838302874294e-16, loss func: 401.0231150656947\n"
     ]
    }
   ],
   "source": [
    "lm = reg.RegressionOpt(\n",
    "    solver='newton',\n",
    "    max_iter=10000,\n",
    "    step_size=1,\n",
    "    w=w_init,\n",
    "    X_train=X_train,\n",
    "    y_train=y_train,\n",
    "    X_test=X_test,\n",
    "    y_test=y_test,\n",
    "    terminate=is_terminated\n",
    ")\n",
    "\n",
    "lm.fit_newton()\n",
    "\n",
    "plot_data(lm)\n",
    "# save_data(lm)\n",
    "\n",
    "print(f'count: {lm.count}, gradient norm: {lm.grad_norm_list[-1]}, loss func: {lm.loss_func_list[-1]}')"
   ]
  },
  {
   "cell_type": "markdown",
   "metadata": {
    "collapsed": false,
    "pycharm": {
     "name": "#%% md\n"
    }
   },
   "source": [
    "Accelerated GD method"
   ]
  },
  {
   "cell_type": "code",
   "execution_count": 10,
   "metadata": {
    "collapsed": false,
    "pycharm": {
     "name": "#%%\n"
    }
   },
   "outputs": [
    {
     "name": "stdout",
     "output_type": "stream",
     "text": [
      "count: 377, gradient norm: 9.937701305172911e-05, loss func: 401.1470972062856\n"
     ]
    }
   ],
   "source": [
    "import regression as reg\n",
    "\n",
    "lm = reg.RegressionOpt(\n",
    "    solver='agd',\n",
    "    max_iter=10000,\n",
    "    step_size=0.5,\n",
    "    w=w_init,\n",
    "    X_train=X_train,\n",
    "    y_train=y_train,\n",
    "    X_test=X_test,\n",
    "    y_test=y_test,\n",
    "    terminate=is_terminated\n",
    ")\n",
    "\n",
    "lm.fit_acc_gd()\n",
    "\n",
    "# plot_data(lm)\n",
    "# save_data(lm)\n",
    "\n",
    "print(f'count: {lm.count}, gradient norm: {lm.grad_norm_list[-1]}, loss func: {lm.loss_func_list[-1]}')\n",
    "# print(lm.w)"
   ]
  },
  {
   "cell_type": "code",
   "execution_count": 11,
   "metadata": {
    "collapsed": false,
    "pycharm": {
     "name": "#%%\n"
    }
   },
   "outputs": [],
   "source": [
    "# delta = 1e-14\n",
    "# t0 = 2e-12\n",
    "# t = []\n",
    "# for i in range(100):\n",
    "#     t.append(t0 + i * delta)\n",
    "#\n",
    "# for step in t:\n",
    "#     lm = reg.RegressionOpt(\n",
    "#     solver='gd',\n",
    "#     max_iter=500,\n",
    "#     step_size=step,\n",
    "#     w=w_init,\n",
    "#     X_train=X_train,\n",
    "#     y_train=y_train,\n",
    "#     X_test=X_test,\n",
    "#     y_test=y_test,\n",
    "#     terminate=True\n",
    "#     )\n",
    "#\n",
    "#     lm.fit_gd()\n",
    "#\n",
    "#     print(f'step size: {step}, count: {lm.count}, gradient norm: {lm.grad_norm_list[-1]}, loss function: {lm.loss_func_list[-1]}')\n"
   ]
  },
  {
   "cell_type": "markdown",
   "metadata": {
    "collapsed": false,
    "pycharm": {
     "name": "#%% md\n"
    }
   },
   "source": [
    "GD with backtracking"
   ]
  },
  {
   "cell_type": "code",
   "execution_count": 12,
   "metadata": {
    "collapsed": false,
    "pycharm": {
     "name": "#%%\n"
    }
   },
   "outputs": [
    {
     "name": "stdout",
     "output_type": "stream",
     "text": [
      "count: 286, inner_count: 1562, gradient norm: 9.86831263088978e-05, loss func: 401.20165228845514\n"
     ]
    }
   ],
   "source": [
    "import regression as reg\n",
    "\n",
    "lm = reg.RegressionOpt(\n",
    "    solver='bgd',\n",
    "    backtracking=True,\n",
    "    max_iter=10000,\n",
    "    step_size=128,\n",
    "    alpha=0.5,\n",
    "    beta=0.5,\n",
    "    w=w_init,\n",
    "    X_train=X_train,\n",
    "    y_train=y_train,\n",
    "    X_test=X_test,\n",
    "    y_test=y_test,\n",
    "    terminate=is_terminated\n",
    ")\n",
    "\n",
    "lm.fit_gd()\n",
    "\n",
    "# plot_data(lm)\n",
    "# save_data(lm)\n",
    "\n",
    "print(f'count: {lm.count}, inner_count: {lm.inner_count}, gradient norm: {lm.grad_norm_list[-1]}, loss func: {lm.loss_func_list[-1]}')\n",
    "# print(lm.w)"
   ]
  },
  {
   "cell_type": "markdown",
   "metadata": {
    "collapsed": false,
    "pycharm": {
     "name": "#%% md\n"
    }
   },
   "source": [
    "Accelerated GD with backtracking"
   ]
  },
  {
   "cell_type": "code",
   "execution_count": 13,
   "metadata": {
    "collapsed": false,
    "pycharm": {
     "name": "#%%\n"
    }
   },
   "outputs": [],
   "source": [
    "# import regression as reg\n",
    "#\n",
    "# t = [4e-13]\n",
    "# for i in range(25):\n",
    "#     t.append(1.01 * t[i])\n",
    "#\n",
    "# # print(t)\n",
    "#\n",
    "# for step in t:\n",
    "#     lm = reg.RegressionOpt(\n",
    "#         backtracking=True,\n",
    "#         max_iter=500,\n",
    "#         step_size=step,\n",
    "#         alpha=0.5,\n",
    "#         beta=0.5,\n",
    "#         w=w_init,\n",
    "#         X_train=X_train,\n",
    "#         y_train=y_train,\n",
    "#         X_test=X_test,\n",
    "#         y_test=y_test,\n",
    "#         terminate=True\n",
    "#     )\n",
    "#\n",
    "#     lm.fit_acc_gd()\n",
    "#     # plot_data(lm)\n",
    "#\n",
    "#     print(f'step size: {step}, count: {lm.count}, gradient norm: {lm.grad_norm_list[-1]}, loss function: {lm.loss_func_list[-1]}')"
   ]
  },
  {
   "cell_type": "code",
   "execution_count": 14,
   "metadata": {
    "collapsed": false,
    "pycharm": {
     "name": "#%%\n"
    }
   },
   "outputs": [
    {
     "name": "stdout",
     "output_type": "stream",
     "text": [
      "step size: 3, count: 161, inner_count: 314, gradient norm: 9.524939212288556e-05, loss function: 401.0898918561149\n"
     ]
    }
   ],
   "source": [
    "lm = reg.RegressionOpt(\n",
    "    solver='agd_bt',\n",
    "    backtracking=True,\n",
    "    max_iter=10000,\n",
    "    step_size=3,\n",
    "    alpha=0.5,\n",
    "    beta=0.5,\n",
    "    w=w_init,\n",
    "    X_train=X_train,\n",
    "    y_train=y_train,\n",
    "    X_test=X_test,\n",
    "    y_test=y_test,\n",
    "    terminate=is_terminated\n",
    ")\n",
    "\n",
    "lm.fit_acc_gd()\n",
    "# plot_data(lm)\n",
    "# save_data(lm)\n",
    "\n",
    "print(f'step size: {lm.step_size}, count: {lm.count}, inner_count: {lm.inner_count}, gradient norm: {lm.grad_norm_list[-1]}, loss function: {lm.loss_func_list[-1]}')"
   ]
  },
  {
   "cell_type": "code",
   "execution_count": 15,
   "metadata": {
    "collapsed": false,
    "pycharm": {
     "name": "#%%\n"
    }
   },
   "outputs": [],
   "source": [
    "# delta = 1e-11\n",
    "# t0 = 6.251678e-4\n",
    "# t = []\n",
    "# for i in range(50):\n",
    "#     t.append(t0 + i * delta)\n",
    "# loop = 0\n",
    "# for step in t:\n",
    "#     loop += 1\n",
    "#     lm = reg.RegressionOpt(\n",
    "#     solver='agd_bt',\n",
    "#     backtracking=True,\n",
    "#     max_iter=50,\n",
    "#     step_size=step,\n",
    "#     alpha=0.5,\n",
    "#     beta=0.5,\n",
    "#     w=w_init,\n",
    "#     X_train=X_train,\n",
    "#     y_train=y_train,\n",
    "#     X_test=X_test,\n",
    "#     y_test=y_test,\n",
    "#     terminate=True\n",
    "#     )\n",
    "#\n",
    "#     lm.fit_acc_gd()\n",
    "#     # plot_data(lm)\n",
    "#     # save_data(lm)\n",
    "#\n",
    "#     print(f'loop: {loop}, step size: {lm.step_size}, count: {lm.count}, inner_count: {lm.inner_count}, gradient norm: {lm.grad_norm_list[-1]}, loss function: {lm.loss_func_list[-1]}')"
   ]
  },
  {
   "cell_type": "code",
   "execution_count": 16,
   "metadata": {
    "collapsed": false,
    "pycharm": {
     "name": "#%%\n"
    }
   },
   "outputs": [
    {
     "name": "stdout",
     "output_type": "stream",
     "text": [
      "[[-0.55645998]\n",
      " [-1.39628217]\n",
      " [ 0.37967969]\n",
      " [-2.30413085]\n",
      " [-0.0433285 ]\n",
      " [ 0.07551949]\n",
      " [ 0.57860558]\n",
      " [ 0.17033881]\n",
      " [ 0.07757404]\n",
      " [ 1.21555499]\n",
      " [ 3.02089375]\n",
      " [ 1.6612628 ]\n",
      " [ 0.16387727]\n",
      " [-0.5221636 ]\n",
      " [ 0.43503326]\n",
      " [-0.07888688]]\n"
     ]
    }
   ],
   "source": [
    "w = np.linalg.solve(np.dot(X_train.T, X_train), np.dot(X_train.T, y_train))\n",
    "print(w)"
   ]
  },
  {
   "cell_type": "code",
   "execution_count": 17,
   "metadata": {
    "collapsed": false,
    "pycharm": {
     "name": "#%%\n"
    }
   },
   "outputs": [
    {
     "name": "stdout",
     "output_type": "stream",
     "text": [
      "train score: 0.6589823651340456\n",
      "test score: 0.6352017821787517\n"
     ]
    }
   ],
   "source": [
    "from sklearn.linear_model import LinearRegression\n",
    "\n",
    "lm = LinearRegression()\n",
    "lm.fit(X_train, y_train)\n",
    "# lm.coef_\n",
    "print(f'train score: {lm.score(X_train, y_train)}')\n",
    "print(f'test score: {lm.score(X_test, y_test)}')"
   ]
  },
  {
   "cell_type": "markdown",
   "metadata": {
    "collapsed": false,
    "pycharm": {
     "name": "#%% md\n"
    }
   },
   "source": [
    "Accelerated GD with backtracking"
   ]
  },
  {
   "cell_type": "code",
   "execution_count": 18,
   "metadata": {
    "collapsed": false,
    "pycharm": {
     "name": "#%%\n"
    }
   },
   "outputs": [],
   "source": [
    "# import regression as reg\n",
    "#\n",
    "# t = [4e-13]\n",
    "# for i in range(25):\n",
    "#     t.append(1.01 * t[i])\n",
    "#\n",
    "# # print(t)\n",
    "#\n",
    "# for step in t:\n",
    "#     lm = reg.RegressionOpt(\n",
    "#         backtracking=True,\n",
    "#         max_iter=500,\n",
    "#         step_size=step,\n",
    "#         alpha=0.5,\n",
    "#         beta=0.5,\n",
    "#         w=w_init,\n",
    "#         X_train=X_train,\n",
    "#         y_train=y_train,\n",
    "#         X_test=X_test,\n",
    "#         y_test=y_test,\n",
    "#         terminate=True\n",
    "#     )\n",
    "#\n",
    "#     lm.fit_acc_gd()\n",
    "#     # plot_data(lm)\n",
    "#\n",
    "#     print(f'step size: {step}, count: {lm.count}, gradient norm: {lm.grad_norm_list[-1]}, loss function: {lm.loss_func_list[-1]}')"
   ]
  },
  {
   "cell_type": "code",
   "execution_count": 19,
   "metadata": {
    "collapsed": false,
    "pycharm": {
     "name": "#%%\n"
    }
   },
   "outputs": [
    {
     "name": "stdout",
     "output_type": "stream",
     "text": [
      "step size: 3, count: 161, inner_count: 314, gradient norm: 9.524939212288556e-05, loss function: 401.0898918561149\n"
     ]
    }
   ],
   "source": [
    "lm = reg.RegressionOpt(\n",
    "    solver='agd_bt',\n",
    "    backtracking=True,\n",
    "    max_iter=10000,\n",
    "    step_size=3,\n",
    "    alpha=0.5,\n",
    "    beta=0.5,\n",
    "    w=w_init,\n",
    "    X_train=X_train,\n",
    "    y_train=y_train,\n",
    "    X_test=X_test,\n",
    "    y_test=y_test,\n",
    "    terminate=is_terminated\n",
    ")\n",
    "\n",
    "lm.fit_acc_gd()\n",
    "# plot_data(lm)\n",
    "# save_data(lm)\n",
    "\n",
    "print(f'step size: {lm.step_size}, count: {lm.count}, inner_count: {lm.inner_count}, gradient norm: {lm.grad_norm_list[-1]}, loss function: {lm.loss_func_list[-1]}')"
   ]
  },
  {
   "cell_type": "code",
   "execution_count": 20,
   "metadata": {
    "collapsed": false,
    "pycharm": {
     "name": "#%%\n"
    }
   },
   "outputs": [],
   "source": [
    "# delta = 1e-11\n",
    "# t0 = 6.251678e-4\n",
    "# t = []\n",
    "# for i in range(50):\n",
    "#     t.append(t0 + i * delta)\n",
    "# loop = 0\n",
    "# for step in t:\n",
    "#     loop += 1\n",
    "#     lm = reg.RegressionOpt(\n",
    "#     solver='agd_bt',\n",
    "#     backtracking=True,\n",
    "#     max_iter=50,\n",
    "#     step_size=step,\n",
    "#     alpha=0.5,\n",
    "#     beta=0.5,\n",
    "#     w=w_init,\n",
    "#     X_train=X_train,\n",
    "#     y_train=y_train,\n",
    "#     X_test=X_test,\n",
    "#     y_test=y_test,\n",
    "#     terminate=True\n",
    "#     )\n",
    "#\n",
    "#     lm.fit_acc_gd()\n",
    "#     # plot_data(lm)\n",
    "#     # save_data(lm)\n",
    "#\n",
    "#     print(f'loop: {loop}, step size: {lm.step_size}, count: {lm.count}, inner_count: {lm.inner_count}, gradient norm: {lm.grad_norm_list[-1]}, loss function: {lm.loss_func_list[-1]}')"
   ]
  },
  {
   "cell_type": "code",
   "execution_count": 21,
   "metadata": {
    "collapsed": false,
    "pycharm": {
     "name": "#%%\n"
    }
   },
   "outputs": [
    {
     "name": "stdout",
     "output_type": "stream",
     "text": [
      "[[-0.55645998]\n",
      " [-1.39628217]\n",
      " [ 0.37967969]\n",
      " [-2.30413085]\n",
      " [-0.0433285 ]\n",
      " [ 0.07551949]\n",
      " [ 0.57860558]\n",
      " [ 0.17033881]\n",
      " [ 0.07757404]\n",
      " [ 1.21555499]\n",
      " [ 3.02089375]\n",
      " [ 1.6612628 ]\n",
      " [ 0.16387727]\n",
      " [-0.5221636 ]\n",
      " [ 0.43503326]\n",
      " [-0.07888688]]\n"
     ]
    }
   ],
   "source": [
    "w = np.linalg.solve(np.dot(X_train.T, X_train), np.dot(X_train.T, y_train))\n",
    "print(w)"
   ]
  },
  {
   "cell_type": "code",
   "execution_count": 22,
   "metadata": {
    "collapsed": false,
    "pycharm": {
     "name": "#%%\n"
    }
   },
   "outputs": [
    {
     "name": "stdout",
     "output_type": "stream",
     "text": [
      "train score: 0.6589823651340456\n",
      "test score: 0.6352017821787517\n"
     ]
    }
   ],
   "source": [
    "from sklearn.linear_model import LinearRegression\n",
    "\n",
    "lm = LinearRegression()\n",
    "lm.fit(X_train, y_train)\n",
    "# lm.coef_\n",
    "print(f'train score: {lm.score(X_train, y_train)}')\n",
    "print(f'test score: {lm.score(X_test, y_test)}')"
   ]
  },
  {
   "cell_type": "code",
   "execution_count": 23,
   "metadata": {
    "collapsed": false,
    "pycharm": {
     "name": "#%%\n"
    }
   },
   "outputs": [],
   "source": [
    "# import regression as reg\n",
    "#\n",
    "# t = [4e-13]\n",
    "# for i in range(25):\n",
    "#     t.append(1.01 * t[i])\n",
    "#\n",
    "# # print(t)\n",
    "#\n",
    "# for step in t:\n",
    "#     lm = reg.RegressionOpt(\n",
    "#         backtracking=True,\n",
    "#         max_iter=500,\n",
    "#         step_size=step,\n",
    "#         alpha=0.5,\n",
    "#         beta=0.5,\n",
    "#         w=w_init,\n",
    "#         X_train=X_train,\n",
    "#         y_train=y_train,\n",
    "#         X_test=X_test,\n",
    "#         y_test=y_test,\n",
    "#         terminate=True\n",
    "#     )\n",
    "#\n",
    "#     lm.fit_acc_gd()\n",
    "#     # plot_data(lm)\n",
    "#\n",
    "#     print(f'step size: {step}, count: {lm.count}, gradient norm: {lm.grad_norm_list[-1]}, loss function: {lm.loss_func_list[-1]}')"
   ]
  },
  {
   "cell_type": "code",
   "execution_count": 24,
   "metadata": {
    "collapsed": false,
    "pycharm": {
     "name": "#%%\n"
    }
   },
   "outputs": [
    {
     "name": "stdout",
     "output_type": "stream",
     "text": [
      "step size: 0.000625158, count: 50, inner_count: 0, gradient norm: 0.502223145475709, loss function: 2100.8999252472045\n"
     ]
    }
   ],
   "source": [
    "lm = reg.RegressionOpt(\n",
    "    solver='agd_bt',\n",
    "    backtracking=True,\n",
    "    max_iter=50,\n",
    "    step_size=6.25158e-4,\n",
    "    alpha=0.5,\n",
    "    beta=0.5,\n",
    "    w=w_init,\n",
    "    X_train=X_train,\n",
    "    y_train=y_train,\n",
    "    X_test=X_test,\n",
    "    y_test=y_test,\n",
    "    terminate=True\n",
    ")\n",
    "\n",
    "lm.fit_acc_gd()\n",
    "# plot_data(lm)\n",
    "# save_data(lm)\n",
    "\n",
    "print(f'step size: {lm.step_size}, count: {lm.count}, inner_count: {lm.inner_count}, gradient norm: {lm.grad_norm_list[-1]}, loss function: {lm.loss_func_list[-1]}')"
   ]
  },
  {
   "cell_type": "code",
   "execution_count": 25,
   "metadata": {
    "collapsed": false,
    "pycharm": {
     "name": "#%%\n"
    }
   },
   "outputs": [
    {
     "name": "stdout",
     "output_type": "stream",
     "text": [
      "loop: 1, step size: 0.0006251678, count: 50, inner_count: 0, gradient norm: 0.5022193941134062, loss function: 2100.883122831187\n",
      "loop: 2, step size: 0.00062516781, count: 50, inner_count: 0, gradient norm: 0.5022193902854947, loss function: 2100.883105685969\n",
      "loop: 3, step size: 0.00062516782, count: 50, inner_count: 0, gradient norm: 0.5022193864575843, loss function: 2100.8830885407574\n",
      "loop: 4, step size: 0.00062516783, count: 50, inner_count: 0, gradient norm: 0.5022193826296728, loss function: 2100.8830713955394\n",
      "loop: 5, step size: 0.0006251678399999999, count: 50, inner_count: 0, gradient norm: 0.502219378801762, loss function: 2100.883054250325\n",
      "loop: 6, step size: 0.00062516785, count: 50, inner_count: 0, gradient norm: 0.5022193749738513, loss function: 2100.8830371051113\n",
      "loop: 7, step size: 0.00062516786, count: 50, inner_count: 0, gradient norm: 0.50221937114594, loss function: 2100.8830199598947\n",
      "loop: 8, step size: 0.00062516787, count: 50, inner_count: 0, gradient norm: 0.5022193673180292, loss function: 2100.8830028146817\n",
      "loop: 9, step size: 0.00062516788, count: 50, inner_count: 0, gradient norm: 0.5022193634901176, loss function: 2100.8829856694647\n",
      "loop: 10, step size: 0.00062516789, count: 50, inner_count: 0, gradient norm: 0.5022193596622078, loss function: 2100.882968524255\n",
      "loop: 11, step size: 0.0006251679, count: 50, inner_count: 0, gradient norm: 0.5022193558342966, loss function: 2100.88295137904\n",
      "loop: 12, step size: 0.00062516791, count: 50, inner_count: 0, gradient norm: 0.5022193520063855, loss function: 2100.8829342338254\n",
      "loop: 13, step size: 0.0006251679199999999, count: 50, inner_count: 0, gradient norm: 0.5022193481784749, loss function: 2100.8829170886133\n",
      "loop: 14, step size: 0.00062516793, count: 50, inner_count: 0, gradient norm: 0.5022193443505641, loss function: 2100.8828999434004\n",
      "loop: 15, step size: 0.00062516794, count: 50, inner_count: 0, gradient norm: 0.5022193405226529, loss function: 2100.882882798185\n",
      "loop: 16, step size: 0.00062516795, count: 50, inner_count: 0, gradient norm: 0.5022193366947424, loss function: 2100.8828656529736\n",
      "loop: 17, step size: 0.00062516796, count: 50, inner_count: 0, gradient norm: 0.5022193328668314, loss function: 2100.88284850776\n",
      "loop: 18, step size: 0.00062516797, count: 50, inner_count: 0, gradient norm: 0.502219329038921, loss function: 2100.8828313625495\n",
      "loop: 19, step size: 0.00062516798, count: 50, inner_count: 0, gradient norm: 0.5022193252110103, loss function: 2100.8828142173375\n",
      "loop: 20, step size: 0.00062516799, count: 50, inner_count: 0, gradient norm: 0.5022193213830994, loss function: 2100.8827970721254\n",
      "loop: 21, step size: 0.000625168, count: 50, inner_count: 0, gradient norm: 0.5022193175551892, loss function: 2100.8827799269156\n",
      "loop: 22, step size: 0.00062516801, count: 50, inner_count: 0, gradient norm: 0.5022193137272782, loss function: 2100.882762781703\n",
      "loop: 23, step size: 0.00062516802, count: 50, inner_count: 0, gradient norm: 0.5022193098993677, loss function: 2100.8827456364925\n",
      "loop: 24, step size: 0.0006251680299999999, count: 50, inner_count: 0, gradient norm: 0.5022193060714569, loss function: 2100.882728491281\n",
      "loop: 25, step size: 0.00062516804, count: 50, inner_count: 0, gradient norm: 0.502219302243546, loss function: 2100.8827113460693\n",
      "loop: 26, step size: 0.00062516805, count: 50, inner_count: 0, gradient norm: 0.5022192984156362, loss function: 2100.8826942008614\n",
      "loop: 27, step size: 0.00062516806, count: 50, inner_count: 0, gradient norm: 0.5022192945877253, loss function: 2100.8826770556498\n",
      "loop: 28, step size: 0.00062516807, count: 50, inner_count: 0, gradient norm: 0.5022192907598146, loss function: 2100.882659910439\n",
      "loop: 29, step size: 0.00062516808, count: 50, inner_count: 0, gradient norm: 0.5022192869319043, loss function: 2100.8826427652302\n",
      "loop: 30, step size: 0.00062516809, count: 50, inner_count: 0, gradient norm: 0.5022192831039938, loss function: 2100.8826256200205\n",
      "loop: 31, step size: 0.0006251681, count: 50, inner_count: 0, gradient norm: 0.5022192792760836, loss function: 2100.8826084748125\n",
      "loop: 32, step size: 0.0006251681099999999, count: 50, inner_count: 0, gradient norm: 0.5022192754481726, loss function: 2100.882591329601\n",
      "loop: 33, step size: 0.00062516812, count: 50, inner_count: 0, gradient norm: 0.502219271620262, loss function: 2100.8825741843916\n",
      "loop: 34, step size: 0.00062516813, count: 50, inner_count: 0, gradient norm: 0.5022192677923518, loss function: 2100.8825570391837\n",
      "loop: 35, step size: 0.00062516814, count: 50, inner_count: 0, gradient norm: 0.5022192639644415, loss function: 2100.8825398939753\n",
      "loop: 36, step size: 0.00062516815, count: 50, inner_count: 0, gradient norm: 0.502219260136531, loss function: 2100.882522748766\n",
      "loop: 37, step size: 0.00062516816, count: 50, inner_count: 0, gradient norm: 0.5022192563086212, loss function: 2100.8825056035607\n",
      "loop: 38, step size: 0.00062516817, count: 50, inner_count: 0, gradient norm: 0.5022192524807105, loss function: 2100.882488458352\n",
      "loop: 39, step size: 0.00062516818, count: 50, inner_count: 0, gradient norm: 0.5022192486528, loss function: 2100.8824713131435\n",
      "loop: 40, step size: 0.00062516819, count: 50, inner_count: 0, gradient norm: 0.5022192448248898, loss function: 2100.882454167936\n",
      "loop: 41, step size: 0.0006251682, count: 50, inner_count: 0, gradient norm: 0.50221924099698, loss function: 2100.8824370227303\n",
      "loop: 42, step size: 0.00062516821, count: 50, inner_count: 0, gradient norm: 0.5022192371690694, loss function: 2100.882419877522\n",
      "loop: 43, step size: 0.0006251682199999999, count: 50, inner_count: 0, gradient norm: 0.5022192333411589, loss function: 2100.8824027323153\n",
      "loop: 44, step size: 0.00062516823, count: 50, inner_count: 0, gradient norm: 0.502219229513249, loss function: 2100.88238558711\n",
      "loop: 45, step size: 0.00062516824, count: 50, inner_count: 0, gradient norm: 0.5022192256853393, loss function: 2100.8823684419053\n",
      "loop: 46, step size: 0.00062516825, count: 50, inner_count: 0, gradient norm: 0.5022192218574286, loss function: 2100.882351296697\n",
      "loop: 47, step size: 0.00062516826, count: 50, inner_count: 0, gradient norm: 0.5022192180295186, loss function: 2100.882334151492\n",
      "loop: 48, step size: 0.00062516827, count: 50, inner_count: 0, gradient norm: 0.5022192142016079, loss function: 2100.882317006284\n",
      "loop: 49, step size: 0.00062516828, count: 50, inner_count: 0, gradient norm: 0.502219210373698, loss function: 2100.882299861079\n",
      "loop: 50, step size: 0.00062516829, count: 50, inner_count: 0, gradient norm: 0.5022192065457878, loss function: 2100.8822827158738\n"
     ]
    }
   ],
   "source": [
    "delta = 1e-11\n",
    "t0 = 6.251678e-4\n",
    "t = []\n",
    "for i in range(50):\n",
    "    t.append(t0 + i * delta)\n",
    "loop = 0\n",
    "for step in t:\n",
    "    loop += 1\n",
    "    lm = reg.RegressionOpt(\n",
    "    solver='agd_bt',\n",
    "    backtracking=True,\n",
    "    max_iter=50,\n",
    "    step_size=step,\n",
    "    alpha=0.5,\n",
    "    beta=0.5,\n",
    "    w=w_init,\n",
    "    X_train=X_train,\n",
    "    y_train=y_train,\n",
    "    X_test=X_test,\n",
    "    y_test=y_test,\n",
    "    terminate=True\n",
    "    )\n",
    "\n",
    "    lm.fit_acc_gd()\n",
    "    # plot_data(lm)\n",
    "    # save_data(lm)\n",
    "\n",
    "    print(f'loop: {loop}, step size: {lm.step_size}, count: {lm.count}, inner_count: {lm.inner_count}, gradient norm: {lm.grad_norm_list[-1]}, loss function: {lm.loss_func_list[-1]}')"
   ]
  },
  {
   "cell_type": "code",
   "execution_count": 26,
   "metadata": {
    "collapsed": false,
    "pycharm": {
     "name": "#%%\n"
    }
   },
   "outputs": [
    {
     "name": "stdout",
     "output_type": "stream",
     "text": [
      "train score: 0.6589823651340456\n",
      "test score: 0.6352017821787517\n"
     ]
    }
   ],
   "source": [
    "from sklearn.linear_model import LinearRegression\n",
    "\n",
    "lm = LinearRegression()\n",
    "lm.fit(X_train, y_train)\n",
    "# lm.coef_\n",
    "print(f'train score: {lm.score(X_train, y_train)}')\n",
    "print(f'test score: {lm.score(X_test, y_test)}')"
   ]
  }
 ],
 "metadata": {
  "interpreter": {
   "hash": "916dbcbb3f70747c44a77c7bcd40155683ae19c65e1c03b4aa3499c5328201f1"
  },
  "kernelspec": {
   "display_name": "Python 3.8.10 64-bit",
   "language": "python",
   "name": "python3"
  },
  "language_info": {
   "codemirror_mode": {
    "name": "ipython",
    "version": 3
   },
   "file_extension": ".py",
   "mimetype": "text/x-python",
   "name": "python",
   "nbconvert_exporter": "python",
   "pygments_lexer": "ipython3",
   "version": "3.8.10"
  }
 },
 "nbformat": 4,
 "nbformat_minor": 0
}
