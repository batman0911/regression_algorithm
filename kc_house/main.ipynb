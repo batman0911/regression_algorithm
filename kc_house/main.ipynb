{
 "cells": [
  {
   "cell_type": "code",
   "execution_count": 1,
   "outputs": [],
   "source": [
    "import numpy as np\n",
    "import pandas as pd\n",
    "from sklearn.model_selection import train_test_split\n",
    "import regression as reg\n",
    "import matplotlib.pyplot as plt"
   ],
   "metadata": {
    "collapsed": false,
    "pycharm": {
     "name": "#%%\n"
    }
   }
  },
  {
   "cell_type": "code",
   "execution_count": 2,
   "outputs": [],
   "source": [
    "is_terminated = True"
   ],
   "metadata": {
    "collapsed": false,
    "pycharm": {
     "name": "#%%\n"
    }
   }
  },
  {
   "cell_type": "code",
   "execution_count": 3,
   "outputs": [],
   "source": [
    "def load_data():\n",
    "    df = pd.read_csv('../data/input/kc_house_data_cleaned.csv')\n",
    "\n",
    "    X = df[df.columns[range(15)]].to_numpy()\n",
    "    one = np.ones((X.shape[0], 1))\n",
    "    X = np.concatenate((one, X), axis=1)\n",
    "    y = df['price'].to_numpy()\n",
    "    # y = (y - np.min(y)) / (np.max(y) - np.min(y))\n",
    "    y = y/1e6\n",
    "    y = y.reshape((X.shape[0], 1))\n",
    "\n",
    "    return train_test_split(X, y, test_size=0.2, random_state=42)"
   ],
   "metadata": {
    "collapsed": false,
    "pycharm": {
     "name": "#%%\n"
    }
   }
  },
  {
   "cell_type": "code",
   "execution_count": 4,
   "outputs": [
    {
     "name": "stdout",
     "output_type": "stream",
     "text": [
      "X_train: (17277, 16), y_train: (17277, 1)\n",
      "X_test: (4320, 16), y_train: (4320, 1)\n"
     ]
    }
   ],
   "source": [
    "X_train, X_test, y_train, y_test = load_data()\n",
    "print(f'X_train: {X_train.shape}, y_train: {y_train.shape}')\n",
    "print(f'X_test: {X_test.shape}, y_train: {y_test.shape}')"
   ],
   "metadata": {
    "collapsed": false,
    "pycharm": {
     "name": "#%%\n"
    }
   }
  },
  {
   "cell_type": "code",
   "execution_count": 5,
   "outputs": [],
   "source": [
    "import matplotlib.pyplot as plt\n",
    "\n",
    "def plot_data(lm: reg.RegressionOpt):\n",
    "    plt.plot(range(len(lm.loss_func_list)), lm.loss_func_list)\n",
    "    plt.title(f'Loss function', fontsize=16)\n",
    "    plt.ylabel('Value', fontsize=16)\n",
    "    plt.xlabel('Count', fontsize=16)\n",
    "    plt.show()\n",
    "\n",
    "    plt.plot(range(len(lm.grad_norm_list)), lm.grad_norm_list)\n",
    "    plt.title(f'Gradient norm', fontsize=16)\n",
    "    plt.ylabel('Value', fontsize=16)\n",
    "    plt.xlabel('Count', fontsize=16)\n",
    "    plt.show()"
   ],
   "metadata": {
    "collapsed": false,
    "pycharm": {
     "name": "#%%\n"
    }
   }
  },
  {
   "cell_type": "code",
   "execution_count": 6,
   "outputs": [],
   "source": [
    "def save_data(lm: reg.RegressionOpt):\n",
    "    d = {\n",
    "        'loss_func_list': lm.loss_func_list,\n",
    "        'grad_norm_list': lm.grad_norm_list\n",
    "    }\n",
    "\n",
    "    df = pd.DataFrame(data=d)\n",
    "\n",
    "    file_name = 'lf_n_grn_' + str(lm.solver) + '_' + str(lm.step_size) + '.csv'\n",
    "    df.to_csv('../data/output/' + file_name, index=False)"
   ],
   "metadata": {
    "collapsed": false,
    "pycharm": {
     "name": "#%%\n"
    }
   }
  },
  {
   "cell_type": "code",
   "execution_count": 7,
   "outputs": [],
   "source": [
    "w_init = np.repeat(0, X_train.shape[1]).reshape((X_train.shape[1], 1))"
   ],
   "metadata": {
    "collapsed": false,
    "pycharm": {
     "name": "#%%\n"
    }
   }
  },
  {
   "cell_type": "markdown",
   "source": [
    "GD method"
   ],
   "metadata": {
    "collapsed": false,
    "pycharm": {
     "name": "#%% md\n"
    }
   }
  },
  {
   "cell_type": "code",
   "execution_count": 8,
   "outputs": [
    {
     "name": "stdout",
     "output_type": "stream",
     "text": [
      "count: 4358, gradient norm: 9.9977835163469e-05, loss func: 401.2248212288715\n"
     ]
    }
   ],
   "source": [
    "lm = reg.RegressionOpt(\n",
    "    solver='gd',\n",
    "    max_iter=10000,\n",
    "    w=w_init,\n",
    "    step_size=1,\n",
    "    X_train=X_train,\n",
    "    y_train=y_train,\n",
    "    X_test=X_test,\n",
    "    y_test=y_test,\n",
    "    terminate=is_terminated\n",
    ")\n",
    "\n",
    "w = lm.fit_gd()\n",
    "\n",
    "# plot_data(lm)\n",
    "\n",
    "# save_data(lm)\n",
    "\n",
    "print(f'count: {lm.count}, gradient norm: {lm.grad_norm_list[-1]}, loss func: {lm.loss_func_list[-1]}')\n",
    "# print(lm.w)"
   ],
   "metadata": {
    "collapsed": false,
    "pycharm": {
     "name": "#%%\n"
    }
   }
  },
  {
   "cell_type": "markdown",
   "source": [
    "Newton method"
   ],
   "metadata": {
    "collapsed": false,
    "pycharm": {
     "name": "#%% md\n"
    }
   }
  },
  {
   "cell_type": "code",
   "execution_count": 19,
   "outputs": [
    {
     "data": {
      "text/plain": "<Figure size 432x288 with 1 Axes>",
      "image/png": "[encoded data removed]"
     },
     "metadata": {
      "needs_background": "light"
     },
     "output_type": "display_data"
    },
    {
     "data": {
      "text/plain": "<Figure size 432x288 with 1 Axes>",
      "image/png": "[encoded data removed]"
     },
     "metadata": {
      "needs_background": "light"
     },
     "output_type": "display_data"
    },
    {
     "name": "stdout",
     "output_type": "stream",
     "text": [
      "count: 2, gradient norm: 3.1621981717008434e-16, loss func: 401.02311506569475\n"
     ]
    }
   ],
   "source": [
    "lm = reg.RegressionOpt(\n",
    "    solver='newton',\n",
    "    max_iter=10000,\n",
    "    step_size=1,\n",
    "    w=w_init,\n",
    "    X_train=X_train,\n",
    "    y_train=y_train,\n",
    "    X_test=X_test,\n",
    "    y_test=y_test,\n",
    "    terminate=is_terminated\n",
    ")\n",
    "\n",
    "lm.fit_newton()\n",
    "\n",
    "plot_data(lm)\n",
    "# save_data(lm)\n",
    "\n",
    "print(f'count: {lm.count}, gradient norm: {lm.grad_norm_list[-1]}, loss func: {lm.loss_func_list[-1]}')"
   ],
   "metadata": {
    "collapsed": false,
    "pycharm": {
     "name": "#%%\n"
    }
   }
  },
  {
   "cell_type": "markdown",
   "source": [
    "Accelerated GD method"
   ],
   "metadata": {
    "collapsed": false,
    "pycharm": {
     "name": "#%% md\n"
    }
   }
  },
  {
   "cell_type": "code",
   "execution_count": 10,
   "outputs": [
    {
     "name": "stdout",
     "output_type": "stream",
     "text": [
      "count: 377, gradient norm: 9.937701305172911e-05, loss func: 401.1470972062856\n"
     ]
    }
   ],
   "source": [
    "import regression as reg\n",
    "\n",
    "lm = reg.RegressionOpt(\n",
    "    solver='agd',\n",
    "    max_iter=10000,\n",
    "    step_size=0.5,\n",
    "    w=w_init,\n",
    "    X_train=X_train,\n",
    "    y_train=y_train,\n",
    "    X_test=X_test,\n",
    "    y_test=y_test,\n",
    "    terminate=is_terminated\n",
    ")\n",
    "\n",
    "lm.fit_acc_gd()\n",
    "\n",
    "# plot_data(lm)\n",
    "# save_data(lm)\n",
    "\n",
    "print(f'count: {lm.count}, gradient norm: {lm.grad_norm_list[-1]}, loss func: {lm.loss_func_list[-1]}')\n",
    "# print(lm.w)"
   ],
   "metadata": {
    "collapsed": false,
    "pycharm": {
     "name": "#%%\n"
    }
   }
  },
  {
   "cell_type": "code",
   "execution_count": 11,
   "outputs": [],
   "source": [
    "# delta = 1e-14\n",
    "# t0 = 2e-12\n",
    "# t = []\n",
    "# for i in range(100):\n",
    "#     t.append(t0 + i * delta)\n",
    "#\n",
    "# for step in t:\n",
    "#     lm = reg.RegressionOpt(\n",
    "#     solver='gd',\n",
    "#     max_iter=500,\n",
    "#     step_size=step,\n",
    "#     w=w_init,\n",
    "#     X_train=X_train,\n",
    "#     y_train=y_train,\n",
    "#     X_test=X_test,\n",
    "#     y_test=y_test,\n",
    "#     terminate=True\n",
    "#     )\n",
    "#\n",
    "#     lm.fit_gd()\n",
    "#\n",
    "#     print(f'step size: {step}, count: {lm.count}, gradient norm: {lm.grad_norm_list[-1]}, loss function: {lm.loss_func_list[-1]}')\n"
   ],
   "metadata": {
    "collapsed": false,
    "pycharm": {
     "name": "#%%\n"
    }
   }
  },
  {
   "cell_type": "markdown",
   "source": [
    "GD with backtracking"
   ],
   "metadata": {
    "collapsed": false,
    "pycharm": {
     "name": "#%% md\n"
    }
   }
  },
  {
   "cell_type": "code",
   "execution_count": 12,
   "outputs": [
    {
     "name": "stdout",
     "output_type": "stream",
     "text": [
      "count: 286, inner_count: 1562, gradient norm: 9.86831263088978e-05, loss func: 401.20165228845514\n"
     ]
    }
   ],
   "source": [
    "import regression as reg\n",
    "\n",
    "lm = reg.RegressionOpt(\n",
    "    solver='bgd',\n",
    "    backtracking=True,\n",
    "    max_iter=10000,\n",
    "    step_size=128,\n",
    "    alpha=0.5,\n",
    "    beta=0.5,\n",
    "    w=w_init,\n",
    "    X_train=X_train,\n",
    "    y_train=y_train,\n",
    "    X_test=X_test,\n",
    "    y_test=y_test,\n",
    "    terminate=is_terminated\n",
    ")\n",
    "\n",
    "lm.fit_gd()\n",
    "\n",
    "# plot_data(lm)\n",
    "# save_data(lm)\n",
    "\n",
    "print(f'count: {lm.count}, inner_count: {lm.inner_count}, gradient norm: {lm.grad_norm_list[-1]}, loss func: {lm.loss_func_list[-1]}')\n",
    "# print(lm.w)"
   ],
   "metadata": {
    "collapsed": false,
    "pycharm": {
     "name": "#%%\n"
    }
   }
  },
  {
   "cell_type": "markdown",
   "source": [
    "Accelerated GD with backtracking"
   ],
   "metadata": {
    "collapsed": false,
    "pycharm": {
     "name": "#%% md\n"
    }
   }
  },
  {
   "cell_type": "code",
   "execution_count": 13,
   "outputs": [],
   "source": [
    "# import regression as reg\n",
    "#\n",
    "# t = [4e-13]\n",
    "# for i in range(25):\n",
    "#     t.append(1.01 * t[i])\n",
    "#\n",
    "# # print(t)\n",
    "#\n",
    "# for step in t:\n",
    "#     lm = reg.RegressionOpt(\n",
    "#         backtracking=True,\n",
    "#         max_iter=500,\n",
    "#         step_size=step,\n",
    "#         alpha=0.5,\n",
    "#         beta=0.5,\n",
    "#         w=w_init,\n",
    "#         X_train=X_train,\n",
    "#         y_train=y_train,\n",
    "#         X_test=X_test,\n",
    "#         y_test=y_test,\n",
    "#         terminate=True\n",
    "#     )\n",
    "#\n",
    "#     lm.fit_acc_gd()\n",
    "#     # plot_data(lm)\n",
    "#\n",
    "#     print(f'step size: {step}, count: {lm.count}, gradient norm: {lm.grad_norm_list[-1]}, loss function: {lm.loss_func_list[-1]}')"
   ],
   "metadata": {
    "collapsed": false,
    "pycharm": {
     "name": "#%%\n"
    }
   }
  },
  {
   "cell_type": "code",
   "execution_count": 14,
   "outputs": [
    {
     "name": "stdout",
     "output_type": "stream",
     "text": [
      "step size: 3, count: 161, inner_count: 314, gradient norm: 9.524939212288556e-05, loss function: 401.0898918561149\n"
     ]
    }
   ],
   "source": [
    "lm = reg.RegressionOpt(\n",
    "    solver='agd_bt',\n",
    "    backtracking=True,\n",
    "    max_iter=10000,\n",
    "    step_size=3,\n",
    "    alpha=0.5,\n",
    "    beta=0.5,\n",
    "    w=w_init,\n",
    "    X_train=X_train,\n",
    "    y_train=y_train,\n",
    "    X_test=X_test,\n",
    "    y_test=y_test,\n",
    "    terminate=is_terminated\n",
    ")\n",
    "\n",
    "lm.fit_acc_gd()\n",
    "# plot_data(lm)\n",
    "# save_data(lm)\n",
    "\n",
    "print(f'step size: {lm.step_size}, count: {lm.count}, inner_count: {lm.inner_count}, gradient norm: {lm.grad_norm_list[-1]}, loss function: {lm.loss_func_list[-1]}')"
   ],
   "metadata": {
    "collapsed": false,
    "pycharm": {
     "name": "#%%\n"
    }
   }
  },
  {
   "cell_type": "code",
   "execution_count": 15,
   "outputs": [],
   "source": [
    "# delta = 1e-11\n",
    "# t0 = 6.251678e-4\n",
    "# t = []\n",
    "# for i in range(50):\n",
    "#     t.append(t0 + i * delta)\n",
    "# loop = 0\n",
    "# for step in t:\n",
    "#     loop += 1\n",
    "#     lm = reg.RegressionOpt(\n",
    "#     solver='agd_bt',\n",
    "#     backtracking=True,\n",
    "#     max_iter=50,\n",
    "#     step_size=step,\n",
    "#     alpha=0.5,\n",
    "#     beta=0.5,\n",
    "#     w=w_init,\n",
    "#     X_train=X_train,\n",
    "#     y_train=y_train,\n",
    "#     X_test=X_test,\n",
    "#     y_test=y_test,\n",
    "#     terminate=True\n",
    "#     )\n",
    "#\n",
    "#     lm.fit_acc_gd()\n",
    "#     # plot_data(lm)\n",
    "#     # save_data(lm)\n",
    "#\n",
    "#     print(f'loop: {loop}, step size: {lm.step_size}, count: {lm.count}, inner_count: {lm.inner_count}, gradient norm: {lm.grad_norm_list[-1]}, loss function: {lm.loss_func_list[-1]}')"
   ],
   "metadata": {
    "collapsed": false,
    "pycharm": {
     "name": "#%%\n"
    }
   }
  },
  {
   "cell_type": "code",
   "execution_count": 16,
   "outputs": [
    {
     "name": "stdout",
     "output_type": "stream",
     "text": [
      "[[-0.55645998]\n",
      " [-1.39628217]\n",
      " [ 0.37967969]\n",
      " [-2.30413085]\n",
      " [-0.0433285 ]\n",
      " [ 0.07551949]\n",
      " [ 0.57860558]\n",
      " [ 0.17033881]\n",
      " [ 0.07757404]\n",
      " [ 1.21555499]\n",
      " [ 3.02089375]\n",
      " [ 1.6612628 ]\n",
      " [ 0.16387727]\n",
      " [-0.5221636 ]\n",
      " [ 0.43503326]\n",
      " [-0.07888688]]\n"
     ]
    }
   ],
   "source": [
    "w = np.linalg.solve(np.dot(X_train.T, X_train), np.dot(X_train.T, y_train))\n",
    "print(w)"
   ],
   "metadata": {
    "collapsed": false,
    "pycharm": {
     "name": "#%%\n"
    }
   }
  },
  {
   "cell_type": "code",
   "execution_count": 17,
   "outputs": [
    {
     "name": "stdout",
     "output_type": "stream",
     "text": [
      "train score: 0.6589823651340456\n",
      "test score: 0.6352017821787517\n"
     ]
    }
   ],
   "source": [
    "from sklearn.linear_model import LinearRegression\n",
    "\n",
    "lm = LinearRegression()\n",
    "lm.fit(X_train, y_train)\n",
    "# lm.coef_\n",
    "print(f'train score: {lm.score(X_train, y_train)}')\n",
    "print(f'test score: {lm.score(X_test, y_test)}')"
   ],
   "metadata": {
    "collapsed": false,
    "pycharm": {
     "name": "#%%\n"
    }
   }
  },
  {
   "cell_type": "code",
   "execution_count": 12,
   "outputs": [],
   "source": [
    "# import regression as reg\n",
    "#\n",
    "# t = [4e-13]\n",
    "# for i in range(25):\n",
    "#     t.append(1.01 * t[i])\n",
    "#\n",
    "# # print(t)\n",
    "#\n",
    "# for step in t:\n",
    "#     lm = reg.RegressionOpt(\n",
    "#         backtracking=True,\n",
    "#         max_iter=500,\n",
    "#         step_size=step,\n",
    "#         alpha=0.5,\n",
    "#         beta=0.5,\n",
    "#         w=w_init,\n",
    "#         X_train=X_train,\n",
    "#         y_train=y_train,\n",
    "#         X_test=X_test,\n",
    "#         y_test=y_test,\n",
    "#         terminate=True\n",
    "#     )\n",
    "#\n",
    "#     lm.fit_acc_gd()\n",
    "#     # plot_data(lm)\n",
    "#\n",
    "#     print(f'step size: {step}, count: {lm.count}, gradient norm: {lm.grad_norm_list[-1]}, loss function: {lm.loss_func_list[-1]}')"
   ],
   "metadata": {
    "collapsed": false,
    "pycharm": {
     "name": "#%%\n"
    }
   }
  },
  {
   "cell_type": "code",
   "execution_count": 83,
   "outputs": [
    {
     "name": "stdout",
     "output_type": "stream",
     "text": [
      "step size: 0.000625158, count: 12, inner_count: 309, gradient norm: 4.959106734855191e-05, loss function: 1.4913239905259186e-20\n"
     ]
    }
   ],
   "source": [
    "lm = reg.RegressionOpt(\n",
    "    solver='agd_bt',\n",
    "    backtracking=True,\n",
    "    max_iter=50,\n",
    "    step_size=6.25158e-4,\n",
    "    alpha=0.5,\n",
    "    beta=0.5,\n",
    "    w=w_init,\n",
    "    X_train=X_train,\n",
    "    y_train=y_train,\n",
    "    X_test=X_test,\n",
    "    y_test=y_test,\n",
    "    terminate=True\n",
    ")\n",
    "\n",
    "lm.fit_acc_gd()\n",
    "# plot_data(lm)\n",
    "# save_data(lm)\n",
    "\n",
    "print(f'step size: {lm.step_size}, count: {lm.count}, inner_count: {lm.inner_count}, gradient norm: {lm.grad_norm_list[-1]}, loss function: {lm.loss_func_list[-1]}')"
   ],
   "metadata": {
    "collapsed": false,
    "pycharm": {
     "name": "#%%\n"
    }
   }
  },
  {
   "cell_type": "code",
   "execution_count": 98,
   "outputs": [
    {
     "name": "stdout",
     "output_type": "stream",
     "text": [
      "loop: 1, step size: 0.0006251678, count: 12, inner_count: 308, gradient norm: 3.814734547077766e-06, loss function: 1.4913148691236104e-20\n",
      "loop: 2, step size: 0.00062516781, count: 12, inner_count: 308, gradient norm: 3.814734547077766e-06, loss function: 1.4913147797021824e-20\n",
      "loop: 3, step size: 0.00062516782, count: 12, inner_count: 308, gradient norm: 3.814734547077766e-06, loss function: 1.491315182176522e-20\n",
      "loop: 4, step size: 0.00062516783, count: 12, inner_count: 308, gradient norm: 3.814734547077766e-06, loss function: 1.4913149046491216e-20\n",
      "loop: 5, step size: 0.0006251678399999999, count: 12, inner_count: 308, gradient norm: 3.814734547077766e-06, loss function: 1.4913149046491216e-20\n",
      "loop: 6, step size: 0.00062516785, count: 12, inner_count: 308, gradient norm: 3.814734547077766e-06, loss function: 1.49131505718598e-20\n",
      "loop: 7, step size: 0.00062516786, count: 13, inner_count: 337, gradient norm: 3.814734547077766e-06, loss function: 1.4913150922979553e-20\n",
      "loop: 8, step size: 0.00062516787, count: 12, inner_count: 308, gradient norm: 3.814734547077766e-06, loss function: 1.491315052848439e-20\n",
      "loop: 9, step size: 0.00062516788, count: 12, inner_count: 308, gradient norm: 3.814734547077766e-06, loss function: 1.4913146529619713e-20\n",
      "loop: 10, step size: 0.00062516789, count: 12, inner_count: 308, gradient norm: 3.814734547077766e-06, loss function: 1.4913147597544785e-20\n",
      "loop: 11, step size: 0.0006251679, count: 15, inner_count: 396, gradient norm: 2.8610726429368613e-06, loss function: 1.4913147685909918e-20\n",
      "loop: 12, step size: 0.00062516791, count: 12, inner_count: 308, gradient norm: 3.814734547077766e-06, loss function: 1.4913151075135723e-20\n",
      "loop: 13, step size: 0.0006251679199999999, count: 12, inner_count: 322, gradient norm: 9.538233297177161e-07, loss function: 1.4913149507032295e-20\n",
      "loop: 14, step size: 0.00062516793, count: 12, inner_count: 309, gradient norm: 2.8610726429368613e-06, loss function: 1.4913149109133243e-20\n",
      "loop: 15, step size: 0.00062516794, count: 15, inner_count: 396, gradient norm: 2.8610726429368613e-06, loss function: 1.49131484158963e-20\n",
      "loop: 16, step size: 0.00062516795, count: 12, inner_count: 308, gradient norm: 3.814734547077766e-06, loss function: 1.4913144900601143e-20\n",
      "loop: 17, step size: 0.00062516796, count: 12, inner_count: 322, gradient norm: 9.538233297177161e-07, loss function: 1.4913149305391667e-20\n",
      "loop: 18, step size: 0.00062516797, count: 12, inner_count: 308, gradient norm: 3.814734547077766e-06, loss function: 1.4913147162773034e-20\n",
      "loop: 19, step size: 0.00062516798, count: 15, inner_count: 396, gradient norm: 2.8610726429368613e-06, loss function: 1.4913149251584266e-20\n",
      "loop: 20, step size: 0.00062516799, count: 12, inner_count: 308, gradient norm: 3.814734547077766e-06, loss function: 1.491315057411044e-20\n",
      "loop: 21, step size: 0.000625168, count: 12, inner_count: 322, gradient norm: 9.538233297177161e-07, loss function: 1.4913150162273337e-20\n",
      "loop: 22, step size: 0.00062516801, count: 12, inner_count: 308, gradient norm: 3.814734547077766e-06, loss function: 1.4913150162273337e-20\n",
      "loop: 23, step size: 0.00062516802, count: 12, inner_count: 308, gradient norm: 3.814734547077766e-06, loss function: 1.4913150437144466e-20\n",
      "loop: 24, step size: 0.0006251680299999999, count: 13, inner_count: 337, gradient norm: 3.814734547077766e-06, loss function: 1.4913146057514194e-20\n",
      "loop: 25, step size: 0.00062516804, count: 12, inner_count: 322, gradient norm: 9.538233297177161e-07, loss function: 1.4913151566411948e-20\n",
      "loop: 26, step size: 0.00062516805, count: 12, inner_count: 308, gradient norm: 3.814734547077766e-06, loss function: 1.4913148583833925e-20\n",
      "loop: 27, step size: 0.00062516806, count: 12, inner_count: 308, gradient norm: 3.814734547077766e-06, loss function: 1.491314821422062e-20\n",
      "loop: 28, step size: 0.00062516807, count: 13, inner_count: 337, gradient norm: 3.814734547077766e-06, loss function: 1.4913151901283017e-20\n",
      "loop: 29, step size: 0.00062516808, count: 12, inner_count: 308, gradient norm: 3.814734547077766e-06, loss function: 1.4913151971302126e-20\n",
      "loop: 30, step size: 0.00062516809, count: 12, inner_count: 308, gradient norm: 3.814734547077766e-06, loss function: 1.4913146774072608e-20\n",
      "loop: 31, step size: 0.0006251681, count: 12, inner_count: 308, gradient norm: 3.814734547077766e-06, loss function: 1.4913151762029037e-20\n",
      "loop: 32, step size: 0.0006251681099999999, count: 12, inner_count: 322, gradient norm: 9.538233297177161e-07, loss function: 1.4913145801729127e-20\n",
      "loop: 33, step size: 0.00062516812, count: 12, inner_count: 308, gradient norm: 3.814734547077766e-06, loss function: 1.4913150437144466e-20\n",
      "loop: 34, step size: 0.00062516813, count: 12, inner_count: 309, gradient norm: 2.8610726429368613e-06, loss function: 1.491314850609145e-20\n",
      "loop: 35, step size: 0.00062516814, count: 13, inner_count: 337, gradient norm: 3.814734547077766e-06, loss function: 1.4913150207884365e-20\n",
      "loop: 36, step size: 0.00062516815, count: 12, inner_count: 308, gradient norm: 3.814734547077766e-06, loss function: 1.4913150251844486e-20\n",
      "loop: 37, step size: 0.00062516816, count: 13, inner_count: 337, gradient norm: 3.814734547077766e-06, loss function: 1.4913145422842855e-20\n",
      "loop: 38, step size: 0.00062516817, count: 15, inner_count: 396, gradient norm: 2.8610726429368613e-06, loss function: 1.4913148321185228e-20\n",
      "loop: 39, step size: 0.00062516818, count: 12, inner_count: 322, gradient norm: 9.538233297177161e-07, loss function: 1.4913148427316294e-20\n",
      "loop: 40, step size: 0.00062516819, count: 12, inner_count: 308, gradient norm: 3.814734547077766e-06, loss function: 1.4913149109133243e-20\n",
      "loop: 41, step size: 0.0006251682, count: 15, inner_count: 409, gradient norm: 9.538233297177161e-07, loss function: 1.4913147254704603e-20\n",
      "loop: 42, step size: 0.00062516821, count: 13, inner_count: 337, gradient norm: 3.814734547077766e-06, loss function: 1.491314757068076e-20\n",
      "loop: 43, step size: 0.0006251682199999999, count: 12, inner_count: 322, gradient norm: 9.538233297177161e-07, loss function: 1.49131475226446e-20\n",
      "loop: 44, step size: 0.00062516823, count: 12, inner_count: 308, gradient norm: 3.814734547077766e-06, loss function: 1.491314746776484e-20\n",
      "loop: 45, step size: 0.00062516824, count: 12, inner_count: 322, gradient norm: 9.538233297177161e-07, loss function: 1.4913150162273337e-20\n",
      "loop: 46, step size: 0.00062516825, count: 12, inner_count: 322, gradient norm: 9.538233297177161e-07, loss function: 1.491314757068076e-20\n",
      "loop: 47, step size: 0.00062516826, count: 15, inner_count: 409, gradient norm: 9.538233297177161e-07, loss function: 1.4913147925355395e-20\n",
      "loop: 48, step size: 0.00062516827, count: 12, inner_count: 308, gradient norm: 3.814734547077766e-06, loss function: 1.4913147515801e-20\n",
      "loop: 49, step size: 0.00062516828, count: 15, inner_count: 396, gradient norm: 2.8610726429368613e-06, loss function: 1.4913146450097295e-20\n",
      "loop: 50, step size: 0.00062516829, count: 15, inner_count: 409, gradient norm: 9.538233297177161e-07, loss function: 1.4913147515801e-20\n"
     ]
    }
   ],
   "source": [
    "delta = 1e-11\n",
    "t0 = 6.251678e-4\n",
    "t = []\n",
    "for i in range(50):\n",
    "    t.append(t0 + i * delta)\n",
    "loop = 0\n",
    "for step in t:\n",
    "    loop += 1\n",
    "    lm = reg.RegressionOpt(\n",
    "    solver='agd_bt',\n",
    "    backtracking=True,\n",
    "    max_iter=50,\n",
    "    step_size=step,\n",
    "    alpha=0.5,\n",
    "    beta=0.5,\n",
    "    w=w_init,\n",
    "    X_train=X_train,\n",
    "    y_train=y_train,\n",
    "    X_test=X_test,\n",
    "    y_test=y_test,\n",
    "    terminate=True\n",
    "    )\n",
    "\n",
    "    lm.fit_acc_gd()\n",
    "    # plot_data(lm)\n",
    "    # save_data(lm)\n",
    "\n",
    "    print(f'loop: {loop}, step size: {lm.step_size}, count: {lm.count}, inner_count: {lm.inner_count}, gradient norm: {lm.grad_norm_list[-1]}, loss function: {lm.loss_func_list[-1]}')"
   ],
   "metadata": {
    "collapsed": false,
    "pycharm": {
     "name": "#%%\n"
    }
   }
  },
  {
   "cell_type": "code",
   "execution_count": 14,
   "outputs": [
    {
     "name": "stdout",
     "output_type": "stream",
     "text": [
      "train score: 1.0\n",
      "test score: 1.0\n"
     ]
    }
   ],
   "source": [
    "from sklearn.linear_model import LinearRegression\n",
    "\n",
    "lm = LinearRegression()\n",
    "lm.fit(X_train, y_train)\n",
    "# lm.coef_\n",
    "print(f'train score: {lm.score(X_train, y_train)}')\n",
    "print(f'test score: {lm.score(X_test, y_test)}')"
   ],
   "metadata": {
    "collapsed": false,
    "pycharm": {
     "name": "#%%\n"
    }
   }
  }
 ],
 "metadata": {
  "interpreter": {
   "hash": "916dbcbb3f70747c44a77c7bcd40155683ae19c65e1c03b4aa3499c5328201f1"
  },
  "kernelspec": {
   "display_name": "Python 3.8.10 64-bit",
   "language": "python",
   "name": "python3"
  },
  "language_info": {
   "codemirror_mode": {
    "name": "ipython",
    "version": 3
   },
   "file_extension": ".py",
   "mimetype": "text/x-python",
   "name": "python",
   "nbconvert_exporter": "python",
   "pygments_lexer": "ipython3",
   "version": "3.8.10"
  }
 },
 "nbformat": 4,
 "nbformat_minor": 0
}