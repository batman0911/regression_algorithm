{
 "cells": [
  {
   "cell_type": "code",
   "execution_count": 1,
   "metadata": {
    "collapsed": false,
    "pycharm": {
     "name": "#%%\n"
    }
   },
   "outputs": [],
   "source": [
    "import numpy as np\n",
    "import pandas as pd\n",
    "from sklearn.model_selection import train_test_split\n",
    "import regression as reg\n",
    "import matplotlib.pyplot as plt"
   ]
  },
  {
   "cell_type": "code",
   "execution_count": 2,
   "metadata": {
    "collapsed": false,
    "pycharm": {
     "name": "#%%\n"
    }
   },
   "outputs": [],
   "source": [
    "def load_data():\n",
    "    df = pd.read_csv('../data/input/kc_house_data_cleaned.csv')\n",
    "\n",
    "    X = df[df.columns[2:3]].to_numpy()\n",
    "    one = np.ones((X.shape[0], 1))\n",
    "    X = np.concatenate((one, X), axis=1)\n",
    "    y = df['price'].to_numpy()\n",
    "    # y = (y - np.min(y)) / (np.max(y) - np.min(y))\n",
    "    y = y/1e6\n",
    "    y = y.reshape((X.shape[0], 1))\n",
    "\n",
    "    return train_test_split(X, y, test_size=0.2, random_state=42)"
   ]
  },
  {
   "cell_type": "code",
   "execution_count": 3,
   "metadata": {
    "collapsed": false,
    "pycharm": {
     "name": "#%%\n"
    }
   },
   "outputs": [
    {
     "name": "stdout",
     "output_type": "stream",
     "text": [
      "X_train: (17277, 2), y_train: (17277, 1)\n",
      "X_test: (4320, 2), y_train: (4320, 1)\n"
     ]
    }
   ],
   "source": [
    "X_train, X_test, y_train, y_test = load_data()\n",
    "print(f'X_train: {X_train.shape}, y_train: {y_train.shape}')\n",
    "print(f'X_test: {X_test.shape}, y_train: {y_test.shape}')"
   ]
  },
  {
   "cell_type": "code",
   "execution_count": 4,
   "metadata": {
    "collapsed": false,
    "pycharm": {
     "name": "#%%\n"
    }
   },
   "outputs": [
    {
     "name": "stdout",
     "output_type": "stream",
     "text": [
      "[[0.1325  ]\n",
      " [0.415   ]\n",
      " [0.494   ]\n",
      " ...\n",
      " [0.437   ]\n",
      " [0.293   ]\n",
      " [0.293467]]\n",
      "[[1.00000000e+00 8.12452544e-02]\n",
      " [1.00000000e+00 8.04859529e-02]\n",
      " [1.00000000e+00 2.08807897e-01]\n",
      " ...\n",
      " [1.00000000e+00 8.80789674e-02]\n",
      " [1.00000000e+00 7.59301443e-04]\n",
      " [1.00000000e+00 1.81093394e-01]]\n"
     ]
    }
   ],
   "source": [
    "print(y_test)\n",
    "print(X_train)"
   ]
  },
  {
   "cell_type": "code",
   "execution_count": 5,
   "outputs": [
    {
     "data": {
      "text/plain": "<Figure size 432x288 with 1 Axes>",
      "image/png": "[encoded data removed]"
     },
     "metadata": {
      "needs_background": "light"
     },
     "output_type": "display_data"
    }
   ],
   "source": [
    "plt.plot(X_train[:, 1], y_train[:, 0])\n",
    "plt.title(f'Loss function', fontsize=16)\n",
    "plt.ylabel('Value', fontsize=16)\n",
    "plt.xlabel('Count', fontsize=16)\n",
    "plt.show()"
   ],
   "metadata": {
    "collapsed": false,
    "pycharm": {
     "name": "#%%\n"
    }
   }
  },
  {
   "cell_type": "markdown",
   "metadata": {
    "collapsed": false,
    "pycharm": {
     "name": "#%% md\n"
    }
   },
   "source": [
    "Newton method"
   ]
  },
  {
   "cell_type": "code",
   "execution_count": 6,
   "metadata": {
    "collapsed": false,
    "pycharm": {
     "name": "#%%\n"
    }
   },
   "outputs": [],
   "source": [
    "# w_init = np.repeat(0, X_train.shape[1]).reshape((X_train.shape[1], 1))\n",
    "# w = w_init\n",
    "# t = 1\n",
    "# cost = []\n",
    "# grad_norm = []\n",
    "# count = 0\n",
    "# for i in range(50):\n",
    "#     grad = reg.gradient(w, X_train, y_train)\n",
    "#     H = reg.hessian(X_train)\n",
    "#     p = reg.cal_direction(H, -grad)\n",
    "#     w = reg.update(w, t, p)\n",
    "#     cost.append(reg.cost_func(w, X_train, y_train))\n",
    "#     grn = np.linalg.norm(grad)\n",
    "#     grad_norm.append(grn)\n",
    "#     if grn < 1e-4:\n",
    "#         count = i\n",
    "#         break\n"
   ]
  },
  {
   "cell_type": "code",
   "execution_count": 7,
   "outputs": [],
   "source": [
    "# print(f'root: {w}')"
   ],
   "metadata": {
    "collapsed": false,
    "pycharm": {
     "name": "#%%\n"
    }
   }
  },
  {
   "cell_type": "code",
   "execution_count": 8,
   "metadata": {
    "collapsed": false,
    "pycharm": {
     "name": "#%%\n"
    }
   },
   "outputs": [],
   "source": [
    "# y_pred = reg.predict(X_test, w)\n",
    "# total_var = np.sum((y_pred[:,0] - y_test[:, 0])**2)\n",
    "# print(total_var)\n",
    "#\n",
    "# ratio = total_var / np.sum(y_test[:, 0]**2)\n",
    "# print(ratio)"
   ]
  },
  {
   "cell_type": "code",
   "execution_count": 9,
   "metadata": {
    "collapsed": false,
    "pycharm": {
     "name": "#%%\n"
    }
   },
   "outputs": [],
   "source": [
    "# import matplotlib.pyplot as plt\n",
    "#\n",
    "# # print(cost)\n",
    "#\n",
    "# plt.plot(range(len(cost)), cost)\n",
    "# plt.title(f'Loss function', fontsize=16)\n",
    "# plt.ylabel('Value', fontsize=16)\n",
    "# plt.xlabel('Count', fontsize=16)\n",
    "# plt.show()\n",
    "#\n",
    "# plt.plot(range(len(grad_norm)), grad_norm)\n",
    "# plt.title(f'Gradient norm', fontsize=16)\n",
    "# plt.ylabel('Value', fontsize=16)\n",
    "# plt.xlabel('Count', fontsize=16)\n",
    "# plt.show()"
   ]
  },
  {
   "cell_type": "code",
   "execution_count": 10,
   "metadata": {
    "collapsed": false,
    "pycharm": {
     "name": "#%%\n"
    }
   },
   "outputs": [],
   "source": [
    "# print(f'count: {count}, gradient norm: {grad_norm[-1]}')"
   ]
  },
  {
   "cell_type": "code",
   "execution_count": 11,
   "metadata": {
    "collapsed": false,
    "pycharm": {
     "name": "#%%\n"
    }
   },
   "outputs": [],
   "source": [
    "# w_init = np.repeat(0, X_train.shape[1]).reshape((X_train.shape[1], 1))\n",
    "# w = w_init\n",
    "# t = 0.5\n",
    "# cost = []\n",
    "# grad_norm = []\n",
    "# count = 0\n",
    "\n",
    "# w1 = reg.update(w, t, reg.gradient(w, X_train, y_train))\n",
    "\n",
    "# w = [w_init, w1]\n",
    "\n",
    "# for i in range(2, 50):\n",
    "#     # v = w[1] + (i - 2)/(i + 1) * (w[1] - w[0])\n",
    "#     v = w[1]\n",
    "#     w[0] = w[1]\n",
    "#     grad = reg.gradient(v, X_train, y_train)\n",
    "#     w[1] = reg.update(v, t, -grad)\n",
    "#     cost.append(reg.cost_func(w[1], X_train, y_train))\n",
    "#     grn = np.linalg.norm(grad)\n",
    "#     grad_norm.append(grn)\n",
    "#     if grn < 1e-4:\n",
    "#         count = i\n",
    "#         break"
   ]
  },
  {
   "cell_type": "code",
   "execution_count": 12,
   "metadata": {
    "pycharm": {
     "name": "#%%\n"
    }
   },
   "outputs": [],
   "source": [
    "w_init = np.repeat(1, X_train.shape[1]).reshape((X_train.shape[1], 1))\n",
    "w = w_init\n",
    "t = 1\n",
    "cost = []\n",
    "grad_norm = []\n",
    "count = 0\n",
    "\n",
    "while count < 5000:\n",
    "    grad = reg.gradient(w, X_train, y_train)\n",
    "    w = w - t/X_train.shape[0] * grad\n",
    "    cost.append(reg.cost_func(w, X_train, y_train))\n",
    "    grn = np.linalg.norm(grad)\n",
    "    grad_norm.append(grn)\n",
    "    count += 1\n",
    "    if grn < 1e-4:\n",
    "        break"
   ]
  },
  {
   "cell_type": "code",
   "execution_count": 13,
   "metadata": {
    "collapsed": false,
    "pycharm": {
     "name": "#%%\n"
    }
   },
   "outputs": [
    {
     "data": {
      "text/plain": "<Figure size 432x288 with 1 Axes>",
      "image/png": "[encoded data removed]"
     },
     "metadata": {
      "needs_background": "light"
     },
     "output_type": "display_data"
    },
    {
     "data": {
      "text/plain": "<Figure size 432x288 with 1 Axes>",
      "image/png": "[encoded data removed]"
     },
     "metadata": {
      "needs_background": "light"
     },
     "output_type": "display_data"
    },
    {
     "name": "stdout",
     "output_type": "stream",
     "text": [
      "count: 3066, gradient norm: 9.953272603035794e-05\n"
     ]
    }
   ],
   "source": [
    "import matplotlib.pyplot as plt\n",
    "\n",
    "# print(cost)\n",
    "\n",
    "plt.plot(range(len(cost)), cost)\n",
    "plt.title(f'Loss function', fontsize=16)\n",
    "plt.ylabel('Value', fontsize=16)\n",
    "plt.xlabel('Count', fontsize=16)\n",
    "plt.show()\n",
    "\n",
    "plt.plot(range(len(grad_norm)), grad_norm)\n",
    "plt.title(f'Gradient norm', fontsize=16)\n",
    "plt.ylabel('Value', fontsize=16)\n",
    "plt.xlabel('Count', fontsize=16)\n",
    "plt.show()\n",
    "\n",
    "print(f'count: {count}, gradient norm: {grad_norm[-1]}')"
   ]
  },
  {
   "cell_type": "code",
   "execution_count": 14,
   "outputs": [],
   "source": [
    "# from regression import Tmp\n",
    "# tmp = Tmp()\n",
    "# tmp.show_name()"
   ],
   "metadata": {
    "collapsed": false,
    "pycharm": {
     "name": "#%%\n"
    }
   }
  },
  {
   "cell_type": "code",
   "execution_count": 15,
   "outputs": [
    {
     "ename": "TypeError",
     "evalue": "__init__() got an unexpected keyword argument 'loss_func'",
     "output_type": "error",
     "traceback": [
      "\u001B[0;31m---------------------------------------------------------------------------\u001B[0m",
      "\u001B[0;31mTypeError\u001B[0m                                 Traceback (most recent call last)",
      "Input \u001B[0;32mIn [15]\u001B[0m, in \u001B[0;36m<cell line: 4>\u001B[0;34m()\u001B[0m\n\u001B[1;32m      1\u001B[0m \u001B[38;5;28;01mfrom\u001B[39;00m \u001B[38;5;21;01mregression\u001B[39;00m \u001B[38;5;28;01mimport\u001B[39;00m RegressionOpt\n\u001B[1;32m      3\u001B[0m w_init \u001B[38;5;241m=\u001B[39m np\u001B[38;5;241m.\u001B[39mrepeat(\u001B[38;5;241m1\u001B[39m, X_train\u001B[38;5;241m.\u001B[39mshape[\u001B[38;5;241m1\u001B[39m])\u001B[38;5;241m.\u001B[39mreshape((X_train\u001B[38;5;241m.\u001B[39mshape[\u001B[38;5;241m1\u001B[39m], \u001B[38;5;241m1\u001B[39m))\n\u001B[0;32m----> 4\u001B[0m lm \u001B[38;5;241m=\u001B[39m \u001B[43mRegressionOpt\u001B[49m\u001B[43m(\u001B[49m\n\u001B[1;32m      5\u001B[0m \u001B[43m    \u001B[49m\u001B[43mmax_iter\u001B[49m\u001B[38;5;241;43m=\u001B[39;49m\u001B[38;5;241;43m100\u001B[39;49m\u001B[43m,\u001B[49m\n\u001B[1;32m      6\u001B[0m \u001B[43m    \u001B[49m\u001B[43mw\u001B[49m\u001B[38;5;241;43m=\u001B[39;49m\u001B[43mw_init\u001B[49m\u001B[43m,\u001B[49m\n\u001B[1;32m      7\u001B[0m \u001B[43m    \u001B[49m\u001B[43mX_train\u001B[49m\u001B[38;5;241;43m=\u001B[39;49m\u001B[43mX_train\u001B[49m\u001B[43m,\u001B[49m\n\u001B[1;32m      8\u001B[0m \u001B[43m    \u001B[49m\u001B[43my_train\u001B[49m\u001B[38;5;241;43m=\u001B[39;49m\u001B[43my_train\u001B[49m\u001B[43m,\u001B[49m\n\u001B[1;32m      9\u001B[0m \u001B[43m    \u001B[49m\u001B[43mX_test\u001B[49m\u001B[38;5;241;43m=\u001B[39;49m\u001B[43mX_test\u001B[49m\u001B[43m,\u001B[49m\n\u001B[1;32m     10\u001B[0m \u001B[43m    \u001B[49m\u001B[43my_test\u001B[49m\u001B[38;5;241;43m=\u001B[39;49m\u001B[43my_test\u001B[49m\u001B[43m,\u001B[49m\n\u001B[1;32m     11\u001B[0m \u001B[43m    \u001B[49m\u001B[43mloss_func\u001B[49m\u001B[38;5;241;43m=\u001B[39;49m\u001B[43mreg\u001B[49m\u001B[38;5;241;43m.\u001B[39;49m\u001B[43mcost_func\u001B[49m\u001B[43m,\u001B[49m\n\u001B[1;32m     12\u001B[0m \u001B[43m    \u001B[49m\u001B[43mgrad_func\u001B[49m\u001B[38;5;241;43m=\u001B[39;49m\u001B[43mreg\u001B[49m\u001B[38;5;241;43m.\u001B[39;49m\u001B[43mgradient\u001B[49m\n\u001B[1;32m     13\u001B[0m \u001B[43m)\u001B[49m\n\u001B[1;32m     15\u001B[0m lm\u001B[38;5;241m.\u001B[39mfit_gd()\n\u001B[1;32m     17\u001B[0m loss_func_list \u001B[38;5;241m=\u001B[39m lm\u001B[38;5;241m.\u001B[39mloss_func_list\n",
      "\u001B[0;31mTypeError\u001B[0m: __init__() got an unexpected keyword argument 'loss_func'"
     ]
    }
   ],
   "source": [
    "from regression import RegressionOpt\n",
    "\n",
    "w_init = np.repeat(1, X_train.shape[1]).reshape((X_train.shape[1], 1))\n",
    "lm = RegressionOpt(\n",
    "    max_iter=100,\n",
    "    w=w_init,\n",
    "    X_train=X_train,\n",
    "    y_train=y_train,\n",
    "    X_test=X_test,\n",
    "    y_test=y_test,\n",
    "    loss_func=reg.cost_func,\n",
    "    grad_func=reg.gradient\n",
    ")\n",
    "\n",
    "lm.fit_gd()\n",
    "\n",
    "loss_func_list = lm.loss_func_list\n",
    "grad_norm_list = lm.grad_norm_list"
   ],
   "metadata": {
    "collapsed": false,
    "pycharm": {
     "name": "#%%\n"
    }
   }
  },
  {
   "cell_type": "code",
   "execution_count": null,
   "outputs": [],
   "source": [
    "import matplotlib.pyplot as plt\n",
    "\n",
    "# print(cost)\n",
    "\n",
    "plt.plot(range(len(cost)), cost)\n",
    "plt.title(f'Loss function', fontsize=16)\n",
    "plt.ylabel('Value', fontsize=16)\n",
    "plt.xlabel('Count', fontsize=16)\n",
    "plt.show()\n",
    "\n",
    "plt.plot(range(len(grad_norm)), grad_norm)\n",
    "plt.title(f'Gradient norm', fontsize=16)\n",
    "plt.ylabel('Value', fontsize=16)\n",
    "plt.xlabel('Count', fontsize=16)\n",
    "plt.show()\n",
    "\n",
    "print(f'count: {count}, gradient norm: {grad_norm[-1]}')"
   ],
   "metadata": {
    "collapsed": false,
    "pycharm": {
     "name": "#%%\n"
    }
   }
  },
  {
   "cell_type": "code",
   "execution_count": null,
   "metadata": {
    "collapsed": false,
    "pycharm": {
     "name": "#%%\n"
    }
   },
   "outputs": [],
   "source": [
    "from sklearn.linear_model import LinearRegression\n",
    "\n",
    "lm = LinearRegression()\n",
    "lm.fit(X_train, y_train)\n",
    "# lm.coef_\n",
    "print(f'train score: {lm.score(X_train, y_train)}')\n",
    "print(f'test score: {lm.score(X_test, y_test)}')"
   ]
  },
  {
   "cell_type": "code",
   "execution_count": null,
   "metadata": {
    "pycharm": {
     "name": "#%%\n"
    }
   },
   "outputs": [],
   "source": [
    "# import matplotlib.pyplot as plt\n",
    "#\n",
    "# # print(cost)\n",
    "#\n",
    "# plt.plot(range(len(cost)), cost)\n",
    "# plt.title(f'Loss function', fontsize=16)\n",
    "# plt.ylabel('Value', fontsize=16)\n",
    "# plt.xlabel('Count', fontsize=16)\n",
    "# plt.show()\n",
    "#\n",
    "# plt.plot(range(len(grad_norm)), grad_norm)\n",
    "# plt.title(f'Gradient norm', fontsize=16)\n",
    "# plt.ylabel('Value', fontsize=16)\n",
    "# plt.xlabel('Count', fontsize=16)\n",
    "# plt.show()"
   ]
  },
  {
   "cell_type": "code",
   "execution_count": null,
   "metadata": {
    "collapsed": false,
    "pycharm": {
     "name": "#%%\n"
    }
   },
   "outputs": [],
   "source": [
    "# from sklearn.linear_model import LinearRegression\n",
    "#\n",
    "# lm = LinearRegression()\n",
    "# lm.fit(X_train, y_train)\n",
    "# # lm.coef_\n",
    "# print(f'train score: {lm.score(X_train, y_train)}')\n",
    "# print(f'test score: {lm.score(X_test, y_test)}')"
   ]
  }
 ],
 "metadata": {
  "interpreter": {
   "hash": "916dbcbb3f70747c44a77c7bcd40155683ae19c65e1c03b4aa3499c5328201f1"
  },
  "kernelspec": {
   "display_name": "Python 3.8.10 64-bit",
   "language": "python",
   "name": "python3"
  },
  "language_info": {
   "codemirror_mode": {
    "name": "ipython",
    "version": 3
   },
   "file_extension": ".py",
   "mimetype": "text/x-python",
   "name": "python",
   "nbconvert_exporter": "python",
   "pygments_lexer": "ipython3",
   "version": "3.8.10"
  }
 },
 "nbformat": 4,
 "nbformat_minor": 0
}