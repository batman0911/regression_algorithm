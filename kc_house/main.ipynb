{
 "cells": [
  {
   "cell_type": "code",
   "execution_count": 44,
   "metadata": {
    "collapsed": false,
    "pycharm": {
     "name": "#%%\n"
    }
   },
   "outputs": [],
   "source": [
    "import numpy as np\n",
    "import pandas as pd\n",
    "from sklearn.model_selection import train_test_split\n",
    "import regression as reg"
   ]
  },
  {
   "cell_type": "code",
   "execution_count": 45,
   "metadata": {
    "collapsed": false,
    "pycharm": {
     "name": "#%%\n"
    }
   },
   "outputs": [],
   "source": [
    "def load_data():\n",
    "    df = pd.read_csv('../data/input/kc_house_data_cleaned.csv')\n",
    "\n",
    "    X = df[df.columns[0:15]].to_numpy()\n",
    "    one = np.ones((X.shape[0], 1))\n",
    "    X = np.concatenate((one, X), axis=1)\n",
    "    y = df['price'].to_numpy()\n",
    "    y = (y - np.min(y)) / (np.max(y) - np.min(y))\n",
    "    y = y.reshape((X.shape[0], 1))\n",
    "\n",
    "    return train_test_split(X, y, test_size=0.2, random_state=42)"
   ]
  },
  {
   "cell_type": "code",
   "execution_count": 46,
   "metadata": {
    "collapsed": false,
    "pycharm": {
     "name": "#%%\n"
    }
   },
   "outputs": [
    {
     "name": "stdout",
     "output_type": "stream",
     "text": [
      "X_train: (17277, 16), y_train: (17277, 1)\n",
      "X_test: (4320, 16), y_train: (4320, 1)\n"
     ]
    }
   ],
   "source": [
    "X_train, X_test, y_train, y_test = load_data()\n",
    "print(f'X_train: {X_train.shape}, y_train: {y_train.shape}')\n",
    "print(f'X_test: {X_test.shape}, y_train: {y_test.shape}')"
   ]
  },
  {
   "cell_type": "code",
   "execution_count": 47,
   "metadata": {
    "collapsed": false,
    "pycharm": {
     "name": "#%%\n"
    }
   },
   "outputs": [
    {
     "name": "stdout",
     "output_type": "stream",
     "text": [
      "[[0.00715035]\n",
      " [0.04421412]\n",
      " [0.05457885]\n",
      " ...\n",
      " [0.0471005 ]\n",
      " [0.02820782]\n",
      " [0.02826909]]\n"
     ]
    }
   ],
   "source": [
    "print(y_test)"
   ]
  },
  {
   "cell_type": "markdown",
   "metadata": {
    "collapsed": false,
    "pycharm": {
     "name": "#%% md\n"
    }
   },
   "source": [
    "Newton method"
   ]
  },
  {
   "cell_type": "code",
   "execution_count": 48,
   "metadata": {
    "collapsed": false,
    "pycharm": {
     "name": "#%%\n"
    }
   },
   "outputs": [],
   "source": [
    "# w_init = np.repeat(0, X_train.shape[1]).reshape((X_train.shape[1], 1))\n",
    "# w = w_init\n",
    "# t = 0.5\n",
    "# cost = []\n",
    "# grad_norm = []\n",
    "# count = 0\n",
    "# for i in range(50):\n",
    "#     grad = reg.gradient(w, X_train, y_train)\n",
    "#     H = reg.hessian(X_train)\n",
    "#     p = reg.cal_direction(H, -grad)\n",
    "#     w = reg.update(w, t, p)\n",
    "#     cost.append(reg.cost_func(w, X_train, y_train))\n",
    "#     grn = np.linalg.norm(grad)\n",
    "#     grad_norm.append(grn)\n",
    "#     if grn < 1e-4:\n",
    "#         count = i\n",
    "#         break\n"
   ]
  },
  {
   "cell_type": "code",
   "execution_count": 49,
   "metadata": {
    "collapsed": false,
    "pycharm": {
     "name": "#%%\n"
    }
   },
   "outputs": [],
   "source": [
    "# y_pred = reg.predict(X_test, w)\n",
    "# total_var = np.sum((y_pred[:,0] - y_test[:, 0])**2)\n",
    "# print(total_var)\n",
    "\n",
    "# ratio = total_var / np.sum(y_test[:, 0]**2)\n",
    "# print(ratio)"
   ]
  },
  {
   "cell_type": "code",
   "execution_count": 50,
   "metadata": {
    "collapsed": false,
    "pycharm": {
     "name": "#%%\n"
    }
   },
   "outputs": [],
   "source": [
    "# import matplotlib.pyplot as plt\n",
    "\n",
    "# # print(cost)\n",
    "\n",
    "# plt.plot(range(len(cost)), cost)\n",
    "# plt.title(f'Loss function', fontsize=16)\n",
    "# plt.ylabel('Value', fontsize=16)\n",
    "# plt.xlabel('Count', fontsize=16)\n",
    "# plt.show()\n",
    "\n",
    "# plt.plot(range(len(grad_norm)), grad_norm)\n",
    "# plt.title(f'Gradient norm', fontsize=16)\n",
    "# plt.ylabel('Value', fontsize=16)\n",
    "# plt.xlabel('Count', fontsize=16)\n",
    "# plt.show()"
   ]
  },
  {
   "cell_type": "code",
   "execution_count": 51,
   "metadata": {
    "collapsed": false,
    "pycharm": {
     "name": "#%%\n"
    }
   },
   "outputs": [],
   "source": [
    "# print(f'count: {count}, gradient norm: {grad_norm[-1]}')"
   ]
  },
  {
   "cell_type": "code",
   "execution_count": 52,
   "metadata": {
    "collapsed": false,
    "pycharm": {
     "name": "#%%\n"
    }
   },
   "outputs": [],
   "source": [
    "# w_init = np.repeat(0, X_train.shape[1]).reshape((X_train.shape[1], 1))\n",
    "# w = w_init\n",
    "# t = 0.5\n",
    "# cost = []\n",
    "# grad_norm = []\n",
    "# count = 0\n",
    "\n",
    "# w1 = reg.update(w, t, reg.gradient(w, X_train, y_train))\n",
    "\n",
    "# w = [w_init, w1]\n",
    "\n",
    "# for i in range(2, 50):\n",
    "#     # v = w[1] + (i - 2)/(i + 1) * (w[1] - w[0])\n",
    "#     v = w[1]\n",
    "#     w[0] = w[1]\n",
    "#     grad = reg.gradient(v, X_train, y_train)\n",
    "#     w[1] = reg.update(v, t, -grad)\n",
    "#     cost.append(reg.cost_func(w[1], X_train, y_train))\n",
    "#     grn = np.linalg.norm(grad)\n",
    "#     grad_norm.append(grn)\n",
    "#     if grn < 1e-4:\n",
    "#         count = i\n",
    "#         break"
   ]
  },
  {
   "cell_type": "code",
   "execution_count": 54,
   "metadata": {
    "pycharm": {
     "name": "#%%\n"
    }
   },
   "outputs": [],
   "source": [
    "w_init = np.repeat(1, X_train.shape[1]).reshape((X_train.shape[1], 1))\n",
    "w = w_init\n",
    "t = 0.0005\n",
    "cost = []\n",
    "grad_norm = []\n",
    "count = 0\n",
    "\n",
    "for i in range(50):\n",
    "    grad = reg.gradient(w, X_train, y_train)\n",
    "    w = w - t * grad\n",
    "    cost.append(reg.cost_func(w, X_train, y_train))\n",
    "    grn = np.linalg.norm(grad)\n",
    "    grad_norm.append(grn)\n",
    "    if grn < 1e-4:\n",
    "        count = i\n",
    "        break"
   ]
  },
  {
   "cell_type": "code",
   "execution_count": 55,
   "metadata": {
    "collapsed": false,
    "pycharm": {
     "name": "#%%\n"
    }
   },
   "outputs": [
    {
     "data": {
      "text/plain": "<Figure size 432x288 with 1 Axes>",
      "image/png": "[encoded data removed]"
     },
     "metadata": {
      "needs_background": "light"
     },
     "output_type": "display_data"
    },
    {
     "data": {
      "text/plain": "<Figure size 432x288 with 1 Axes>",
      "image/png": "[encoded data removed]"
     },
     "metadata": {
      "needs_background": "light"
     },
     "output_type": "display_data"
    }
   ],
   "source": [
    "import matplotlib.pyplot as plt\n",
    "\n",
    "# print(cost)\n",
    "\n",
    "plt.plot(range(len(cost)), cost)\n",
    "plt.title(f'Loss function', fontsize=16)\n",
    "plt.ylabel('Value', fontsize=16)\n",
    "plt.xlabel('Count', fontsize=16)\n",
    "plt.show()\n",
    "\n",
    "plt.plot(range(len(grad_norm)), grad_norm)\n",
    "plt.title(f'Gradient norm', fontsize=16)\n",
    "plt.ylabel('Value', fontsize=16)\n",
    "plt.xlabel('Count', fontsize=16)\n",
    "plt.show()"
   ]
  },
  {
   "cell_type": "code",
   "execution_count": null,
   "metadata": {
    "collapsed": false,
    "pycharm": {
     "name": "#%%\n"
    }
   },
   "outputs": [],
   "source": [
    "from sklearn.linear_model import LinearRegression\n",
    "\n",
    "lm = LinearRegression()\n",
    "lm.fit(X_train, y_train)\n",
    "# lm.coef_\n",
    "print(f'train score: {lm.score(X_train, y_train)}')\n",
    "print(f'test score: {lm.score(X_test, y_test)}')"
   ]
  },
  {
   "cell_type": "code",
   "execution_count": null,
   "metadata": {
    "pycharm": {
     "name": "#%%\n"
    }
   },
   "outputs": [],
   "source": [
    "import matplotlib.pyplot as plt\n",
    "\n",
    "# print(cost)\n",
    "\n",
    "plt.plot(range(len(cost)), cost)\n",
    "plt.title(f'Loss function', fontsize=16)\n",
    "plt.ylabel('Value', fontsize=16)\n",
    "plt.xlabel('Count', fontsize=16)\n",
    "plt.show()\n",
    "\n",
    "plt.plot(range(len(grad_norm)), grad_norm)\n",
    "plt.title(f'Gradient norm', fontsize=16)\n",
    "plt.ylabel('Value', fontsize=16)\n",
    "plt.xlabel('Count', fontsize=16)\n",
    "plt.show()"
   ]
  },
  {
   "cell_type": "code",
   "execution_count": null,
   "metadata": {
    "collapsed": false,
    "pycharm": {
     "name": "#%%\n"
    }
   },
   "outputs": [],
   "source": [
    "from sklearn.linear_model import LinearRegression\n",
    "\n",
    "lm = LinearRegression()\n",
    "lm.fit(X_train, y_train)\n",
    "# lm.coef_\n",
    "print(f'train score: {lm.score(X_train, y_train)}')\n",
    "print(f'test score: {lm.score(X_test, y_test)}')"
   ]
  }
 ],
 "metadata": {
  "interpreter": {
   "hash": "916dbcbb3f70747c44a77c7bcd40155683ae19c65e1c03b4aa3499c5328201f1"
  },
  "kernelspec": {
   "display_name": "Python 3.8.10 64-bit",
   "language": "python",
   "name": "python3"
  },
  "language_info": {
   "codemirror_mode": {
    "name": "ipython",
    "version": 3
   },
   "file_extension": ".py",
   "mimetype": "text/x-python",
   "name": "python",
   "nbconvert_exporter": "python",
   "pygments_lexer": "ipython3",
   "version": "3.8.10"
  }
 },
 "nbformat": 4,
 "nbformat_minor": 0
}