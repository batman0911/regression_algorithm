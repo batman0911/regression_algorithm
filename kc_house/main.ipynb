{
 "cells": [
  {
   "cell_type": "code",
   "execution_count": 1,
   "metadata": {
    "collapsed": false,
    "pycharm": {
     "name": "#%%\n"
    }
   },
   "outputs": [],
   "source": [
    "import numpy as np\n",
    "import pandas as pd\n",
    "from sklearn.model_selection import train_test_split\n",
    "import regression as reg\n",
    "import matplotlib.pyplot as plt"
   ]
  },
  {
   "cell_type": "code",
   "execution_count": 2,
   "metadata": {
    "collapsed": false,
    "pycharm": {
     "name": "#%%\n"
    }
   },
   "outputs": [],
   "source": [
    "is_terminated = True\n",
    "is_bench_mode = True\n",
    "\n",
    "root = dict()"
   ]
  },
  {
   "cell_type": "code",
   "execution_count": 3,
   "metadata": {
    "collapsed": false,
    "pycharm": {
     "name": "#%%\n"
    }
   },
   "outputs": [],
   "source": [
    "def load_data():\n",
    "    df = pd.read_csv('../data/input/kc_house_data_cleaned.csv')\n",
    "\n",
    "    X = df[df.columns[range(15)]].to_numpy()\n",
    "    one = np.ones((X.shape[0], 1))\n",
    "    X = np.concatenate((one, X), axis=1)\n",
    "    y = df['price'].to_numpy()\n",
    "    # y = (y - np.min(y)) / (np.max(y) - np.min(y))\n",
    "    y = y/1e6\n",
    "    y = y.reshape((X.shape[0], 1))\n",
    "\n",
    "    return train_test_split(X, y, test_size=0.2, random_state=42)"
   ]
  },
  {
   "cell_type": "code",
   "execution_count": 4,
   "metadata": {
    "collapsed": false,
    "pycharm": {
     "name": "#%%\n"
    }
   },
   "outputs": [
    {
     "name": "stdout",
     "output_type": "stream",
     "text": [
      "X_train: (17277, 16), y_train: (17277, 1)\n",
      "X_test: (4320, 16), y_train: (4320, 1)\n"
     ]
    }
   ],
   "source": [
    "X_train, X_test, y_train, y_test = load_data()\n",
    "print(f'X_train: {X_train.shape}, y_train: {y_train.shape}')\n",
    "print(f'X_test: {X_test.shape}, y_train: {y_test.shape}')"
   ]
  },
  {
   "cell_type": "code",
   "execution_count": 5,
   "metadata": {},
   "outputs": [
    {
     "name": "stdout",
     "output_type": "stream",
     "text": [
      "[[1.         0.09375    0.2        ... 0.00393889 0.37068966 0.01234568]\n",
      " [1.         0.0625     0.16666667 ... 0.01060136 0.31034483 0.01234568]\n",
      " [1.         0.09375    0.3        ... 0.0049957  0.04310345 0.01234568]\n",
      " ...\n",
      " [1.         0.09375    0.13333333 ... 0.00901615 0.3362069  0.01234568]\n",
      " [1.         0.         0.03333333 ... 0.0164827  0.44827586 0.01234568]\n",
      " [1.         0.09375    0.26666667 ... 0.01399117 0.12931034 0.01234568]]\n"
     ]
    }
   ],
   "source": [
    "print(X_train)"
   ]
  },
  {
   "cell_type": "code",
   "execution_count": 6,
   "metadata": {
    "collapsed": false,
    "pycharm": {
     "name": "#%%\n"
    }
   },
   "outputs": [],
   "source": [
    "import matplotlib.pyplot as plt\n",
    "\n",
    "def plot_data(lm: reg.RegressionOpt):\n",
    "    plt.plot(range(len(lm.loss_func_list)), lm.loss_func_list)\n",
    "    plt.title(f'Loss function', fontsize=16)\n",
    "    plt.ylabel('Value', fontsize=16)\n",
    "    plt.xlabel('Count', fontsize=16)\n",
    "    plt.show()\n",
    "\n",
    "    plt.plot(range(len(lm.grad_norm_list)), lm.grad_norm_list)\n",
    "    plt.title(f'Gradient norm', fontsize=16)\n",
    "    plt.ylabel('Value', fontsize=16)\n",
    "    plt.xlabel('Count', fontsize=16)\n",
    "    plt.show()"
   ]
  },
  {
   "cell_type": "code",
   "execution_count": 7,
   "metadata": {
    "collapsed": false,
    "pycharm": {
     "name": "#%%\n"
    }
   },
   "outputs": [],
   "source": [
    "def save_data(lm: reg.RegressionOpt):\n",
    "    d = {\n",
    "        'loss_func_list': lm.loss_func_list,\n",
    "        'grad_norm_list': lm.grad_norm_list\n",
    "    }\n",
    "\n",
    "    df = pd.DataFrame(data=d)\n",
    "\n",
    "    file_name = 'lf_n_grn_' + str(lm.solver) + '_' + str(lm.step_size) + '.csv'\n",
    "    df.to_csv('../data/output/' + file_name, index=False)"
   ]
  },
  {
   "cell_type": "code",
   "execution_count": 8,
   "metadata": {
    "collapsed": false,
    "pycharm": {
     "name": "#%%\n"
    }
   },
   "outputs": [],
   "source": [
    "w_init = np.repeat(0, X_train.shape[1]).reshape((X_train.shape[1], 1))"
   ]
  },
  {
   "cell_type": "markdown",
   "metadata": {
    "collapsed": false,
    "pycharm": {
     "name": "#%% md\n"
    }
   },
   "source": [
    "GD method"
   ]
  },
  {
   "cell_type": "code",
   "execution_count": 27,
   "metadata": {
    "collapsed": false,
    "pycharm": {
     "name": "#%%\n"
    }
   },
   "outputs": [
    {
     "name": "stdout",
     "output_type": "stream",
     "text": [
      "gd time: 2.642338514328003\n",
      "count: 4358, gradient norm: 0.7832325359150619, loss func: 0.21468643959334224\n"
     ]
    }
   ],
   "source": [
    "import time\n",
    "\n",
    "start = time.time()\n",
    "\n",
    "lm = reg.RegressionOpt(\n",
    "    solver='gd',\n",
    "    max_iter=10000,\n",
    "    w=w_init,\n",
    "    step_size=1,\n",
    "    X_train=X_train,\n",
    "    y_train=y_train,\n",
    "    X_test=X_test,\n",
    "    y_test=y_test,\n",
    "    terminate=is_terminated,\n",
    "    bench_mode=is_bench_mode\n",
    ")\n",
    "\n",
    "w = lm.fit_gd()\n",
    "\n",
    "end = time.time()\n",
    "\n",
    "print(f'gd time: {end - start}')\n",
    "# plot_data(lm)\n",
    "\n",
    "# save_data(lm)\n",
    "\n",
    "print(f'count: {lm.count}, gradient norm: {lm.grad_norm_list[-1]}, loss func: {lm.loss_func_list[-1]}')\n",
    "# print(lm.w)\n",
    "\n",
    "root['gd'] = np.array(lm.w)\n"
   ]
  },
  {
   "cell_type": "code",
   "execution_count": 10,
   "metadata": {},
   "outputs": [
    {
     "name": "stdout",
     "output_type": "stream",
     "text": [
      "root: {'gd': array([[-0.56814636],\n",
      "       [-1.18578792],\n",
      "       [ 0.36570304],\n",
      "       [ 0.7777802 ],\n",
      "       [-0.11424952],\n",
      "       [ 0.07692482],\n",
      "       [ 0.58113749],\n",
      "       [ 0.17237658],\n",
      "       [ 0.07647384],\n",
      "       [ 1.23115306],\n",
      "       [ 0.86055422],\n",
      "       [ 0.511194  ],\n",
      "       [ 0.16453468],\n",
      "       [-0.44460732],\n",
      "       [ 0.43438789],\n",
      "       [-0.07629955]])}\n"
     ]
    }
   ],
   "source": [
    "print(f'root: {root}')"
   ]
  },
  {
   "cell_type": "markdown",
   "metadata": {
    "collapsed": false,
    "pycharm": {
     "name": "#%% md\n"
    }
   },
   "source": [
    "Newton method"
   ]
  },
  {
   "cell_type": "code",
   "execution_count": 29,
   "metadata": {
    "collapsed": false,
    "pycharm": {
     "name": "#%%\n"
    }
   },
   "outputs": [
    {
     "name": "stdout",
     "output_type": "stream",
     "text": [
      "time: 0.0048389434814453125\n",
      "count: 2, gradient norm: 4.517056224608494e-15, loss func: 0.023211385950436696\n",
      "w: [[-5.56459985e-01]\n",
      " [-1.39628217e+00]\n",
      " [ 3.79679695e-01]\n",
      " [ 1.26542408e+02]\n",
      " [-4.33284961e-02]\n",
      " [ 7.55194870e-02]\n",
      " [ 5.78605578e-01]\n",
      " [ 1.70338808e-01]\n",
      " [ 7.75740426e-02]\n",
      " [ 1.21555499e+00]\n",
      " [-8.54204659e+01]\n",
      " [-4.54944179e+01]\n",
      " [ 1.63877272e-01]\n",
      " [-5.22163597e-01]\n",
      " [ 4.35033258e-01]\n",
      " [-7.88868835e-02]]\n"
     ]
    }
   ],
   "source": [
    "import time\n",
    "\n",
    "start = time.time()\n",
    "\n",
    "lm = reg.RegressionOpt(\n",
    "    solver='newton',\n",
    "    max_iter=20,\n",
    "    step_size=1,\n",
    "    w=w_init,\n",
    "    X_train=X_train,\n",
    "    y_train=y_train,\n",
    "    X_test=X_test,\n",
    "    y_test=y_test,\n",
    "    terminate=is_terminated\n",
    ")\n",
    "\n",
    "lm.fit_newton()\n",
    "\n",
    "end = time.time()\n",
    "\n",
    "print(f'time: {end - start}')\n",
    "\n",
    "# plot_data(lm)\n",
    "# save_data(lm)\n",
    "\n",
    "print(f'count: {lm.count}, gradient norm: {lm.grad_norm_list[-1]}, loss func: {lm.loss_func_list[-1]}')\n",
    "print(f'w: {lm.w}')\n",
    "\n",
    "root['newton'] = np.array(lm.w)"
   ]
  },
  {
   "cell_type": "markdown",
   "metadata": {
    "collapsed": false,
    "pycharm": {
     "name": "#%% md\n"
    }
   },
   "source": [
    "Accelerated GD method"
   ]
  },
  {
   "cell_type": "code",
   "execution_count": 33,
   "metadata": {
    "collapsed": false,
    "pycharm": {
     "name": "#%%\n"
    }
   },
   "outputs": [
    {
     "name": "stdout",
     "output_type": "stream",
     "text": [
      "time: 0.17490839958190918\n",
      "count: 278, gradient norm: 0.7832325359150619, loss func: 0.21468643959334224\n",
      "[[-0.55187398]\n",
      " [-1.55811182]\n",
      " [ 0.39201815]\n",
      " [ 0.8169481 ]\n",
      " [-0.08525583]\n",
      " [ 0.07323636]\n",
      " [ 0.57983243]\n",
      " [ 0.168161  ]\n",
      " [ 0.07806533]\n",
      " [ 1.21997316]\n",
      " [ 0.90635672]\n",
      " [ 0.53231155]\n",
      " [ 0.15382112]\n",
      " [-0.49920104]\n",
      " [ 0.43691492]\n",
      " [-0.08442615]]\n"
     ]
    }
   ],
   "source": [
    "import regression as reg\n",
    "\n",
    "import time\n",
    "start = time.time()\n",
    "\n",
    "lm = reg.RegressionOpt(\n",
    "    solver='agd',\n",
    "    max_iter=10000,\n",
    "    step_size=0.6,\n",
    "    w=w_init,\n",
    "    X_train=X_train,\n",
    "    y_train=y_train,\n",
    "    X_test=X_test,\n",
    "    y_test=y_test,\n",
    "    terminate=is_terminated,\n",
    "    bench_mode=is_bench_mode\n",
    ")\n",
    "\n",
    "lm.fit_acc_gd()\n",
    "\n",
    "end = time.time()\n",
    "\n",
    "print(f'time: {end - start}')\n",
    "\n",
    "# plot_data(lm)\n",
    "# save_data(lm)\n",
    "\n",
    "print(f'count: {lm.count}, gradient norm: {lm.grad_norm_list[-1]}, loss func: {lm.loss_func_list[-1]}')\n",
    "print(lm.w)\n",
    "\n",
    "root['agd'] = np.array(lm.w)"
   ]
  },
  {
   "cell_type": "code",
   "execution_count": 13,
   "metadata": {
    "collapsed": false,
    "pycharm": {
     "name": "#%%\n"
    }
   },
   "outputs": [],
   "source": [
    "# delta = 1e-14\n",
    "# t0 = 2e-12\n",
    "# t = []\n",
    "# for i in range(100):\n",
    "#     t.append(t0 + i * delta)\n",
    "#\n",
    "# for step in t:\n",
    "#     lm = reg.RegressionOpt(\n",
    "#     solver='gd',\n",
    "#     max_iter=500,\n",
    "#     step_size=step,\n",
    "#     w=w_init,\n",
    "#     X_train=X_train,\n",
    "#     y_train=y_train,\n",
    "#     X_test=X_test,\n",
    "#     y_test=y_test,\n",
    "#     terminate=True\n",
    "#     )\n",
    "#\n",
    "#     lm.fit_gd()\n",
    "#\n",
    "#     print(f'step size: {step}, count: {lm.count}, gradient norm: {lm.grad_norm_list[-1]}, loss function: {lm.loss_func_list[-1]}')\n"
   ]
  },
  {
   "cell_type": "markdown",
   "metadata": {
    "collapsed": false,
    "pycharm": {
     "name": "#%% md\n"
    }
   },
   "source": [
    "GD with backtracking"
   ]
  },
  {
   "cell_type": "code",
   "execution_count": 36,
   "metadata": {
    "collapsed": false,
    "pycharm": {
     "name": "#%%\n"
    }
   },
   "outputs": [
    {
     "name": "stdout",
     "output_type": "stream",
     "text": [
      "gd time: 1.0022284984588623\n",
      "count: 286, inner_count: 1562, gradient norm: 0.7832325359150619, loss func: 0.21468643959334224\n"
     ]
    }
   ],
   "source": [
    "import regression as reg\n",
    "\n",
    "import time\n",
    "\n",
    "start = time.time()\n",
    "\n",
    "lm = reg.RegressionOpt(\n",
    "    solver='bgd',\n",
    "    backtracking=True,\n",
    "    max_iter=10000,\n",
    "    step_size=128,\n",
    "    alpha=0.5,\n",
    "    beta=0.5,\n",
    "    w=w_init,\n",
    "    X_train=X_train,\n",
    "    y_train=y_train,\n",
    "    X_test=X_test,\n",
    "    y_test=y_test,\n",
    "    terminate=is_terminated,\n",
    "    bench_mode=is_bench_mode\n",
    ")\n",
    "\n",
    "lm.fit_gd()\n",
    "\n",
    "end = time.time()\n",
    "\n",
    "print(f'gd time: {end - start}')\n",
    "\n",
    "# plot_data(lm)\n",
    "# save_data(lm)\n",
    "\n",
    "print(f'count: {lm.count}, inner_count: {lm.inner_count}, gradient norm: {lm.grad_norm_list[-1]}, loss func: {lm.loss_func_list[-1]}')\n",
    "# print(lm.w)\n",
    "\n",
    "root['bgd'] = np.array(lm.w)"
   ]
  },
  {
   "cell_type": "markdown",
   "metadata": {
    "collapsed": false,
    "pycharm": {
     "name": "#%% md\n"
    }
   },
   "source": [
    "Accelerated GD with backtracking"
   ]
  },
  {
   "cell_type": "code",
   "execution_count": 15,
   "metadata": {
    "collapsed": false,
    "pycharm": {
     "name": "#%%\n"
    }
   },
   "outputs": [],
   "source": [
    "# import regression as reg\n",
    "#\n",
    "# t = [4e-13]\n",
    "# for i in range(25):\n",
    "#     t.append(1.01 * t[i])\n",
    "#\n",
    "# # print(t)\n",
    "#\n",
    "# for step in t:\n",
    "#     lm = reg.RegressionOpt(\n",
    "#         backtracking=True,\n",
    "#         max_iter=500,\n",
    "#         step_size=step,\n",
    "#         alpha=0.5,\n",
    "#         beta=0.5,\n",
    "#         w=w_init,\n",
    "#         X_train=X_train,\n",
    "#         y_train=y_train,\n",
    "#         X_test=X_test,\n",
    "#         y_test=y_test,\n",
    "#         terminate=True\n",
    "#     )\n",
    "#\n",
    "#     lm.fit_acc_gd()\n",
    "#     # plot_data(lm)\n",
    "#\n",
    "#     print(f'step size: {step}, count: {lm.count}, gradient norm: {lm.grad_norm_list[-1]}, loss function: {lm.loss_func_list[-1]}')"
   ]
  },
  {
   "cell_type": "code",
   "execution_count": 41,
   "metadata": {
    "collapsed": false,
    "pycharm": {
     "name": "#%%\n"
    }
   },
   "outputs": [
    {
     "name": "stdout",
     "output_type": "stream",
     "text": [
      "gd time: 0.5875453948974609\n",
      "step size: 1, count: 307, inner_count: 138, gradient norm: 9.836391599532262e-05, loss function: 0.02321760553991592\n"
     ]
    }
   ],
   "source": [
    "import time\n",
    "\n",
    "start = time.time()\n",
    "\n",
    "lm = reg.RegressionOpt(\n",
    "    solver='agd_bt',\n",
    "    backtracking=True,\n",
    "    max_iter=10000,\n",
    "    step_size=1,\n",
    "    alpha=0.5,\n",
    "    beta=0.5,\n",
    "    w=w_init,\n",
    "    X_train=X_train,\n",
    "    y_train=y_train,\n",
    "    X_test=X_test,\n",
    "    y_test=y_test,\n",
    "    terminate=is_terminated\n",
    ")\n",
    "\n",
    "lm.fit_acc_gd()\n",
    "\n",
    "end = time.time()\n",
    "\n",
    "print(f'gd time: {end - start}')\n",
    "\n",
    "# plot_data(lm)\n",
    "# save_data(lm)\n",
    "\n",
    "print(f'step size: {lm.step_size}, count: {lm.count}, inner_count: {lm.inner_count}, gradient norm: {lm.grad_norm_list[-1]}, loss function: {lm.loss_func_list[-1]}')\n",
    "\n",
    "root['agd_bt'] = np.array(lm.w)"
   ]
  },
  {
   "cell_type": "code",
   "execution_count": 17,
   "metadata": {
    "collapsed": false,
    "pycharm": {
     "name": "#%%\n"
    }
   },
   "outputs": [],
   "source": [
    "# delta = 1e-11\n",
    "# t0 = 6.251678e-4\n",
    "# t = []\n",
    "# for i in range(50):\n",
    "#     t.append(t0 + i * delta)\n",
    "# loop = 0\n",
    "# for step in t:\n",
    "#     loop += 1\n",
    "#     lm = reg.RegressionOpt(\n",
    "#     solver='agd_bt',\n",
    "#     backtracking=True,\n",
    "#     max_iter=50,\n",
    "#     step_size=step,\n",
    "#     alpha=0.5,\n",
    "#     beta=0.5,\n",
    "#     w=w_init,\n",
    "#     X_train=X_train,\n",
    "#     y_train=y_train,\n",
    "#     X_test=X_test,\n",
    "#     y_test=y_test,\n",
    "#     terminate=True\n",
    "#     )\n",
    "#\n",
    "#     lm.fit_acc_gd()\n",
    "#     # plot_data(lm)\n",
    "#     # save_data(lm)\n",
    "#\n",
    "#     print(f'loop: {loop}, step size: {lm.step_size}, count: {lm.count}, inner_count: {lm.inner_count}, gradient norm: {lm.grad_norm_list[-1]}, loss function: {lm.loss_func_list[-1]}')"
   ]
  },
  {
   "cell_type": "code",
   "execution_count": 18,
   "metadata": {
    "collapsed": false,
    "pycharm": {
     "name": "#%%\n"
    }
   },
   "outputs": [],
   "source": [
    "# w = np.linalg.solve(np.dot(X_train.T, X_train), np.dot(X_train.T, y_train))\n",
    "# print(w)"
   ]
  },
  {
   "cell_type": "code",
   "execution_count": 43,
   "metadata": {
    "collapsed": false,
    "pycharm": {
     "name": "#%%\n"
    }
   },
   "outputs": [
    {
     "name": "stdout",
     "output_type": "stream",
     "text": [
      "time: 0.02147078514099121\n",
      "train score: 0.658982195856788\n",
      "test score: 0.6352020058657151\n"
     ]
    }
   ],
   "source": [
    "from sklearn.linear_model import LinearRegression\n",
    "\n",
    "import time\n",
    "\n",
    "start = time.time()\n",
    "lm = LinearRegression()\n",
    "lm.fit(X_train, y_train)\n",
    "end = time.time()\n",
    "\n",
    "print(f'time: {end - start}')\n",
    "# lm.coef_\n",
    "print(f'train score: {lm.score(X_train, y_train)}')\n",
    "print(f'test score: {lm.score(X_test, y_test)}')"
   ]
  },
  {
   "cell_type": "code",
   "execution_count": 20,
   "metadata": {
    "collapsed": false,
    "pycharm": {
     "name": "#%%\n"
    }
   },
   "outputs": [
    {
     "name": "stdout",
     "output_type": "stream",
     "text": [
      "train score: 0.658982195856788\n",
      "test score: 0.6352020058657151\n"
     ]
    }
   ],
   "source": [
    "from sklearn.linear_model import LinearRegression\n",
    "\n",
    "lm = LinearRegression()\n",
    "lm.fit(X_train, y_train)\n",
    "# lm.coef_\n",
    "print(f'train score: {lm.score(X_train, y_train)}')\n",
    "print(f'test score: {lm.score(X_test, y_test)}')"
   ]
  },
  {
   "cell_type": "code",
   "execution_count": 21,
   "metadata": {},
   "outputs": [],
   "source": [
    "# norm = np.linalg.norm(root['newton'])\n",
    "\n",
    "# diff = dict()\n",
    "\n",
    "# for key in root:\n",
    "#     d = root[key] - root['newton']\n",
    "#     diff[key] = np.linalg.norm(d) / 15\n",
    "\n",
    "# print(f'diff: {diff}')"
   ]
  },
  {
   "cell_type": "code",
   "execution_count": 22,
   "metadata": {},
   "outputs": [
    {
     "name": "stdout",
     "output_type": "stream",
     "text": [
      "{'gd': array([[-0.56814636],\n",
      "       [-1.18578792],\n",
      "       [ 0.36570304],\n",
      "       [ 0.7777802 ],\n",
      "       [-0.11424952],\n",
      "       [ 0.07692482],\n",
      "       [ 0.58113749],\n",
      "       [ 0.17237658],\n",
      "       [ 0.07647384],\n",
      "       [ 1.23115306],\n",
      "       [ 0.86055422],\n",
      "       [ 0.511194  ],\n",
      "       [ 0.16453468],\n",
      "       [-0.44460732],\n",
      "       [ 0.43438789],\n",
      "       [-0.07629955]]), 'newton': array([[-5.56459985e-01],\n",
      "       [-1.39628217e+00],\n",
      "       [ 3.79679695e-01],\n",
      "       [ 1.26542408e+02],\n",
      "       [-4.33284961e-02],\n",
      "       [ 7.55194870e-02],\n",
      "       [ 5.78605578e-01],\n",
      "       [ 1.70338808e-01],\n",
      "       [ 7.75740426e-02],\n",
      "       [ 1.21555499e+00],\n",
      "       [-8.54204659e+01],\n",
      "       [-4.54944179e+01],\n",
      "       [ 1.63877272e-01],\n",
      "       [-5.22163597e-01],\n",
      "       [ 4.35033258e-01],\n",
      "       [-7.88868835e-02]]), 'agd': array([[-0.55187398],\n",
      "       [-1.55811182],\n",
      "       [ 0.39201815],\n",
      "       [ 0.8169481 ],\n",
      "       [-0.08525583],\n",
      "       [ 0.07323636],\n",
      "       [ 0.57983243],\n",
      "       [ 0.168161  ],\n",
      "       [ 0.07806533],\n",
      "       [ 1.21997316],\n",
      "       [ 0.90635672],\n",
      "       [ 0.53231155],\n",
      "       [ 0.15382112],\n",
      "       [-0.49920104],\n",
      "       [ 0.43691492],\n",
      "       [-0.08442615]]), 'bgd': array([[-0.56676897],\n",
      "       [-1.20343487],\n",
      "       [ 0.36735435],\n",
      "       [ 0.78020707],\n",
      "       [-0.11285543],\n",
      "       [ 0.07790604],\n",
      "       [ 0.58092571],\n",
      "       [ 0.17234446],\n",
      "       [ 0.07636232],\n",
      "       [ 1.23049525],\n",
      "       [ 0.86351359],\n",
      "       [ 0.51227474],\n",
      "       [ 0.16487648],\n",
      "       [-0.4483522 ],\n",
      "       [ 0.43322591],\n",
      "       [-0.07654256]]), 'agd_bt': array([[-0.54528619],\n",
      "       [-1.55380901],\n",
      "       [ 0.39063118],\n",
      "       [ 0.82053779],\n",
      "       [-0.04194939],\n",
      "       [ 0.07525757],\n",
      "       [ 0.57184063],\n",
      "       [ 0.17024381],\n",
      "       [ 0.07751733],\n",
      "       [ 1.19661247],\n",
      "       [ 0.91032165],\n",
      "       [ 0.53468361],\n",
      "       [ 0.16664438],\n",
      "       [-0.52685043],\n",
      "       [ 0.43525184],\n",
      "       [-0.07995337]])}\n"
     ]
    }
   ],
   "source": [
    "print(root)"
   ]
  },
  {
   "cell_type": "code",
   "execution_count": 23,
   "metadata": {},
   "outputs": [
    {
     "name": "stdout",
     "output_type": "stream",
     "text": [
      "r2: {'gd': 0.6359931596812467, 'newton': 0.6351979911955383, 'agd': 0.6342705837804722, 'bgd': 0.6358671282890946, 'agd_bt': 0.6343423740136478}\n"
     ]
    }
   ],
   "source": [
    "from sklearn.metrics import r2_score\n",
    "\n",
    "r2 = dict()\n",
    "for key in root:\n",
    "    r2[key] = r2_score(y_test, np.dot(X_test, root[key]))\n",
    "\n",
    "print(f'r2: {r2}')"
   ]
  },
  {
   "cell_type": "code",
   "execution_count": 24,
   "metadata": {},
   "outputs": [
    {
     "ename": "TypeError",
     "evalue": "_solve_dispatcher() missing 2 required positional arguments: 'a' and 'b'",
     "output_type": "error",
     "traceback": [
      "\u001b[1;31m---------------------------------------------------------------------------\u001b[0m",
      "\u001b[1;31mTypeError\u001b[0m                                 Traceback (most recent call last)",
      "\u001b[1;32mf:\\msc\\optimization\\code\\regression_algorithm\\kc_house\\main.ipynb Cell 29\u001b[0m in \u001b[0;36m<cell line: 1>\u001b[1;34m()\u001b[0m\n\u001b[1;32m----> <a href='vscode-notebook-cell:/f%3A/msc/optimization/code/regression_algorithm/kc_house/main.ipynb#X52sZmlsZQ%3D%3D?line=0'>1</a>\u001b[0m np\u001b[39m.\u001b[39;49mlinalg\u001b[39m.\u001b[39;49msolve()\n",
      "File \u001b[1;32m<__array_function__ internals>:179\u001b[0m, in \u001b[0;36msolve\u001b[1;34m(*args, **kwargs)\u001b[0m\n",
      "\u001b[1;31mTypeError\u001b[0m: _solve_dispatcher() missing 2 required positional arguments: 'a' and 'b'"
     ]
    }
   ],
   "source": [
    "np.linalg.solve()"
   ]
  }
 ],
 "metadata": {
  "kernelspec": {
   "display_name": "Python 3.10.4 64-bit",
   "language": "python",
   "name": "python3"
  },
  "language_info": {
   "codemirror_mode": {
    "name": "ipython",
    "version": 3
   },
   "file_extension": ".py",
   "mimetype": "text/x-python",
   "name": "python",
   "nbconvert_exporter": "python",
   "pygments_lexer": "ipython3",
   "version": "3.10.4"
  },
  "vscode": {
   "interpreter": {
    "hash": "e948c4b38b728f096d80b971267aaacaadf037cb9311af5e2ce81141e3cf0617"
   }
  }
 },
 "nbformat": 4,
 "nbformat_minor": 0
}
