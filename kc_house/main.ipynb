{
 "cells": [
  {
   "cell_type": "code",
   "execution_count": 86,
   "metadata": {
    "collapsed": true,
    "pycharm": {
     "name": "#%%\n"
    }
   },
   "outputs": [],
   "source": [
    "import numpy as np\n",
    "import pandas as pd\n",
    "from sklearn.model_selection import train_test_split"
   ]
  },
  {
   "cell_type": "code",
   "execution_count": 87,
   "outputs": [],
   "source": [
    "def load_data():\n",
    "    df = pd.read_csv('../data/input/kc_house_data_cleaned.csv')\n",
    "\n",
    "    X = df[df.columns[0:15]].to_numpy()\n",
    "    one = np.ones((X.shape[0], 1))\n",
    "    X = np.concatenate((one, X), axis=1)\n",
    "    y = df['price'].to_numpy()\n",
    "    y = (y - np.min(y)) / (np.max(y) - np.min(y))\n",
    "    y = y.reshape((X.shape[0], 1))\n",
    "\n",
    "    return train_test_split(X, y, test_size=0.2, random_state=42)"
   ],
   "metadata": {
    "collapsed": false,
    "pycharm": {
     "name": "#%%\n"
    }
   }
  },
  {
   "cell_type": "code",
   "execution_count": 88,
   "outputs": [
    {
     "name": "stdout",
     "output_type": "stream",
     "text": [
      "X_train: (17277, 16), y_train: (17277, 1)\n",
      "X_test: (4320, 16), y_train: (4320, 1)\n"
     ]
    }
   ],
   "source": [
    "X_train, X_test, y_train, y_test = load_data()\n",
    "print(f'X_train: {X_train.shape}, y_train: {y_train.shape}')\n",
    "print(f'X_test: {X_test.shape}, y_train: {y_test.shape}')"
   ],
   "metadata": {
    "collapsed": false,
    "pycharm": {
     "name": "#%%\n"
    }
   }
  },
  {
   "cell_type": "code",
   "execution_count": 89,
   "outputs": [
    {
     "name": "stdout",
     "output_type": "stream",
     "text": [
      "[[0.0072]\n",
      " [0.0442]\n",
      " [0.0546]\n",
      " ...\n",
      " [0.0471]\n",
      " [0.0282]\n",
      " [0.0283]]\n"
     ]
    }
   ],
   "source": [
    "print(y_test)"
   ],
   "metadata": {
    "collapsed": false,
    "pycharm": {
     "name": "#%%\n"
    }
   }
  },
  {
   "cell_type": "code",
   "execution_count": 90,
   "outputs": [],
   "source": [
    "from sklearn.linear_model import LinearRegression\n",
    "\n",
    "lm = LinearRegression()"
   ],
   "metadata": {
    "collapsed": false,
    "pycharm": {
     "name": "#%%\n"
    }
   }
  },
  {
   "cell_type": "code",
   "execution_count": 91,
   "outputs": [],
   "source": [
    "def cost_func(w, X, y):\n",
    "    eps = y - np.dot(X, w)\n",
    "    return float(np.dot(eps.T, eps) / 2)"
   ],
   "metadata": {
    "collapsed": false,
    "pycharm": {
     "name": "#%%\n"
    }
   }
  },
  {
   "cell_type": "code",
   "execution_count": 92,
   "outputs": [],
   "source": [
    "def gradient(w, X, y):\n",
    "    return - np.dot(X.T, y) + np.dot(np.dot(X.T, X), w)"
   ],
   "metadata": {
    "collapsed": false,
    "pycharm": {
     "name": "#%%\n"
    }
   }
  },
  {
   "cell_type": "code",
   "execution_count": 93,
   "outputs": [],
   "source": [
    "def hessian(X):\n",
    "    return np.dot(X.T, X)"
   ],
   "metadata": {
    "collapsed": false,
    "pycharm": {
     "name": "#%%\n"
    }
   }
  },
  {
   "cell_type": "code",
   "execution_count": 94,
   "outputs": [],
   "source": [
    "def cal_direction(H, g):\n",
    "    return np.linalg.solve(H, g)"
   ],
   "metadata": {
    "collapsed": false,
    "pycharm": {
     "name": "#%%\n"
    }
   }
  },
  {
   "cell_type": "code",
   "execution_count": 95,
   "outputs": [],
   "source": [
    "def update(w, t, p):\n",
    "    return w + t*p"
   ],
   "metadata": {
    "collapsed": false,
    "pycharm": {
     "name": "#%%\n"
    }
   }
  },
  {
   "cell_type": "code",
   "execution_count": 96,
   "outputs": [],
   "source": [
    "def predict(X, w):\n",
    "    return np.dot(X, w)"
   ],
   "metadata": {
    "collapsed": false,
    "pycharm": {
     "name": "#%%\n"
    }
   }
  },
  {
   "cell_type": "code",
   "execution_count": 124,
   "outputs": [],
   "source": [
    "# w_init = np.random.randn(X_train.shape[1], 1)\n",
    "w_init = np.repeat(0, X_train.shape[1]).reshape((X_train.shape[1], 1))\n",
    "w = w_init\n",
    "t = 0.5\n",
    "cost = []\n",
    "grad_norm = []\n",
    "for i in range(50):\n",
    "    grad = gradient(w, X_train, y_train)\n",
    "    H = hessian(X_train)\n",
    "    p = cal_direction(H, -grad)\n",
    "    w = update(w, t, p)\n",
    "    cost.append(cost_func(w, X_train, y_train))\n",
    "    grad_norm.append(np.linalg.norm(grad))"
   ],
   "metadata": {
    "collapsed": false,
    "pycharm": {
     "name": "#%%\n"
    }
   }
  },
  {
   "cell_type": "code",
   "execution_count": 129,
   "outputs": [
    {
     "name": "stdout",
     "output_type": "stream",
     "text": [
      "3.5323876993760797\n",
      "0.1399464748107317\n"
     ]
    }
   ],
   "source": [
    "y_pred = predict(X_test, w)\n",
    "# print(y_test[0:10])\n",
    "# print(y_pred[0:10])\n",
    "total_var = np.sum((y_pred[:,0] - y_test[:, 0])**2)\n",
    "print(total_var)\n",
    "\n",
    "ratio = total_var / np.sum(y_test[:, 0]**2)\n",
    "print(ratio)"
   ],
   "metadata": {
    "collapsed": false,
    "pycharm": {
     "name": "#%%\n"
    }
   }
  },
  {
   "cell_type": "code",
   "execution_count": 125,
   "outputs": [
    {
     "data": {
      "text/plain": "<Figure size 432x288 with 1 Axes>",
      "image/png": "[encoded data removed]"
     },
     "metadata": {
      "needs_background": "light"
     },
     "output_type": "display_data"
    },
    {
     "data": {
      "text/plain": "<Figure size 432x288 with 1 Axes>",
      "image/png": "[encoded data removed]"
     },
     "metadata": {
      "needs_background": "light"
     },
     "output_type": "display_data"
    }
   ],
   "source": [
    "import matplotlib.pyplot as plt\n",
    "\n",
    "# print(cost)\n",
    "\n",
    "plt.plot(range(len(cost)), cost)\n",
    "plt.title(f'Loss function', fontsize=16)\n",
    "plt.ylabel('Value', fontsize=16)\n",
    "plt.xlabel('Count', fontsize=16)\n",
    "plt.show()\n",
    "\n",
    "plt.plot(range(len(grad_norm)), grad_norm)\n",
    "plt.title(f'Gradient norm', fontsize=16)\n",
    "plt.ylabel('Value', fontsize=16)\n",
    "plt.xlabel('Count', fontsize=16)\n",
    "plt.show()"
   ],
   "metadata": {
    "collapsed": false,
    "pycharm": {
     "name": "#%%\n"
    }
   }
  },
  {
   "cell_type": "code",
   "execution_count": 126,
   "outputs": [
    {
     "name": "stdout",
     "output_type": "stream",
     "text": [
      "3.1481158018234842e-12\n"
     ]
    }
   ],
   "source": [
    "print(grad_norm[-1])"
   ],
   "metadata": {
    "collapsed": false,
    "pycharm": {
     "name": "#%%\n"
    }
   }
  },
  {
   "cell_type": "code",
   "execution_count": 127,
   "outputs": [
    {
     "name": "stdout",
     "output_type": "stream",
     "text": [
      "train score: 0.6589821735911321\n",
      "test score: 0.6352015771388886\n"
     ]
    }
   ],
   "source": [
    "lm = LinearRegression()\n",
    "lm.fit(X_train, y_train)\n",
    "# lm.coef_\n",
    "print(f'train score: {lm.score(X_train, y_train)}')\n",
    "print(f'test score: {lm.score(X_test, y_test)}')"
   ],
   "metadata": {
    "collapsed": false,
    "pycharm": {
     "name": "#%%\n"
    }
   }
  }
 ],
 "metadata": {
  "kernelspec": {
   "display_name": "Python 3",
   "language": "python",
   "name": "python3"
  },
  "language_info": {
   "codemirror_mode": {
    "name": "ipython",
    "version": 2
   },
   "file_extension": ".py",
   "mimetype": "text/x-python",
   "name": "python",
   "nbconvert_exporter": "python",
   "pygments_lexer": "ipython2",
   "version": "2.7.6"
  }
 },
 "nbformat": 4,
 "nbformat_minor": 0
}