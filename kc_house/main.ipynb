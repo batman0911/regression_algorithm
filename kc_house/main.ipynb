{
 "cells": [
  {
   "cell_type": "code",
   "execution_count": 1,
   "metadata": {
    "collapsed": false,
    "pycharm": {
     "name": "#%%\n"
    }
   },
   "outputs": [],
   "source": [
    "import numpy as np\n",
    "import pandas as pd\n",
    "from sklearn.model_selection import train_test_split\n",
    "import regression as reg\n",
    "import matplotlib.pyplot as plt"
   ]
  },
  {
   "cell_type": "code",
   "execution_count": 2,
   "metadata": {
    "collapsed": false,
    "pycharm": {
     "name": "#%%\n"
    }
   },
   "outputs": [],
   "source": [
    "def load_data():\n",
    "    df = pd.read_csv('../data/input/kc_house_data_cleaned.csv')\n",
    "\n",
    "    X = df[df.columns[2:3]].to_numpy()\n",
    "    one = np.ones((X.shape[0], 1))\n",
    "    X = np.concatenate((one, X), axis=1)\n",
    "    y = df['price'].to_numpy()\n",
    "    # y = (y - np.min(y)) / (np.max(y) - np.min(y))\n",
    "    y = y/1e6\n",
    "    y = y.reshape((X.shape[0], 1))\n",
    "\n",
    "    return train_test_split(X, y, test_size=0.2, random_state=42)"
   ]
  },
  {
   "cell_type": "code",
   "execution_count": 3,
   "metadata": {
    "collapsed": false,
    "pycharm": {
     "name": "#%%\n"
    }
   },
   "outputs": [
    {
     "name": "stdout",
     "output_type": "stream",
     "text": [
      "X_train: (17277, 2), y_train: (17277, 1)\n",
      "X_test: (4320, 2), y_train: (4320, 1)\n"
     ]
    }
   ],
   "source": [
    "X_train, X_test, y_train, y_test = load_data()\n",
    "print(f'X_train: {X_train.shape}, y_train: {y_train.shape}')\n",
    "print(f'X_test: {X_test.shape}, y_train: {y_test.shape}')"
   ]
  },
  {
   "cell_type": "code",
   "execution_count": 4,
   "metadata": {
    "collapsed": false,
    "pycharm": {
     "name": "#%%\n"
    }
   },
   "outputs": [
    {
     "name": "stdout",
     "output_type": "stream",
     "text": [
      "[[0.1325  ]\n",
      " [0.415   ]\n",
      " [0.494   ]\n",
      " ...\n",
      " [0.437   ]\n",
      " [0.293   ]\n",
      " [0.293467]]\n",
      "[[1.00000000e+00 8.12452544e-02]\n",
      " [1.00000000e+00 8.04859529e-02]\n",
      " [1.00000000e+00 2.08807897e-01]\n",
      " ...\n",
      " [1.00000000e+00 8.80789674e-02]\n",
      " [1.00000000e+00 7.59301443e-04]\n",
      " [1.00000000e+00 1.81093394e-01]]\n"
     ]
    }
   ],
   "source": [
    "print(y_test)\n",
    "print(X_train)"
   ]
  },
  {
   "cell_type": "code",
   "execution_count": 5,
   "metadata": {
    "collapsed": false,
    "pycharm": {
     "name": "#%%\n"
    }
   },
   "outputs": [],
   "source": [
    "# plt.plot(X_train[:, 1], y_train[:, 0])\n",
    "# plt.title(f'Loss function', fontsize=16)\n",
    "# plt.ylabel('Value', fontsize=16)\n",
    "# plt.xlabel('Count', fontsize=16)\n",
    "# plt.show()"
   ]
  },
  {
   "cell_type": "markdown",
   "metadata": {
    "collapsed": false,
    "pycharm": {
     "name": "#%% md\n"
    }
   },
   "source": [
    "Newton method"
   ]
  },
  {
   "cell_type": "code",
   "execution_count": 6,
   "metadata": {
    "collapsed": false,
    "pycharm": {
     "name": "#%%\n"
    }
   },
   "outputs": [],
   "source": [
    "w_init = np.repeat(0, X_train.shape[1]).reshape((X_train.shape[1], 1))\n",
    "w = w_init\n",
    "t = 1\n",
    "cost = []\n",
    "grad_norm = []\n",
    "count = 0\n",
    "for i in range(50):\n",
    "    grad = reg.gradient(w, X_train, y_train)\n",
    "    H = reg.hessian(X_train)\n",
    "    p = reg.cal_direction(H, -grad)\n",
    "    w = reg.update(w, t, p)\n",
    "    cost.append(reg.loss_func(w, X_train, y_train))\n",
    "    grn = np.linalg.norm(grad)\n",
    "    grad_norm.append(grn)\n",
    "    if grn < 1e-4:\n",
    "        count = i\n",
    "        break\n"
   ]
  },
  {
   "cell_type": "code",
   "execution_count": 7,
   "metadata": {
    "collapsed": false,
    "pycharm": {
     "name": "#%%\n"
    }
   },
   "outputs": [],
   "source": [
    "# print(f'root: {w}')"
   ]
  },
  {
   "cell_type": "code",
   "execution_count": 8,
   "metadata": {
    "collapsed": false,
    "pycharm": {
     "name": "#%%\n"
    }
   },
   "outputs": [],
   "source": [
    "# y_pred = reg.predict(X_test, w)\n",
    "# total_var = np.sum((y_pred[:,0] - y_test[:, 0])**2)\n",
    "# print(total_var)\n",
    "#\n",
    "# ratio = total_var / np.sum(y_test[:, 0]**2)\n",
    "# print(ratio)"
   ]
  },
  {
   "cell_type": "code",
   "execution_count": 9,
   "metadata": {
    "collapsed": false,
    "pycharm": {
     "name": "#%%\n"
    }
   },
   "outputs": [],
   "source": [
    "import matplotlib.pyplot as plt\n",
    "\n",
    "def plot_data(lm: reg.RegressionOpt):\n",
    "    plt.plot(range(len(lm.loss_func_list)), lm.loss_func_list)\n",
    "    plt.title(f'Loss function', fontsize=16)\n",
    "    plt.ylabel('Value', fontsize=16)\n",
    "    plt.xlabel('Count', fontsize=16)\n",
    "    plt.show()\n",
    "\n",
    "    plt.plot(range(len(lm.grad_norm_list)), lm.grad_norm_list)\n",
    "    plt.title(f'Gradient norm', fontsize=16)\n",
    "    plt.ylabel('Value', fontsize=16)\n",
    "    plt.xlabel('Count', fontsize=16)\n",
    "    plt.show()\n",
    "\n",
    "# print(f'count: {lm.count}, gradient norm: {lm.grad_norm_list[-1]}')"
   ]
  },
  {
   "cell_type": "code",
   "execution_count": 10,
   "metadata": {
    "collapsed": false,
    "pycharm": {
     "name": "#%%\n"
    }
   },
   "outputs": [],
   "source": [
    "# w_init = np.repeat(0, X_train.shape[1]).reshape((X_train.shape[1], 1))\n",
    "# w = w_init\n",
    "# t = 0.5 / X_train.shape[0]\n",
    "# cost = []\n",
    "# grad_norm = []\n",
    "# count = 0\n",
    "\n",
    "# w1 = reg.update(w, t, reg.gradient(w, X_train, y_train))\n",
    "\n",
    "# w = [w_init, w1]\n",
    "\n",
    "# for i in range(2, 50):\n",
    "#     # v = w[1] + (i - 2)/(i + 1) * (w[1] - w[0])\n",
    "#     v = w[1]\n",
    "#     w[0] = w[1]\n",
    "#     grad = reg.gradient(v, X_train, y_train)\n",
    "#     w[1] = reg.update(v, t, -grad)\n",
    "#     cost.append(reg.loss_func(w[1], X_train, y_train))\n",
    "#     grn = np.linalg.norm(grad)\n",
    "#     grad_norm.append(grn)\n",
    "#     if grn < 1e-4:\n",
    "#         count = i\n",
    "#         break"
   ]
  },
  {
   "cell_type": "code",
   "execution_count": 11,
   "metadata": {
    "collapsed": false,
    "pycharm": {
     "name": "#%%\n"
    }
   },
   "outputs": [],
   "source": [
    "w_init = np.repeat(1, X_train.shape[1]).reshape((X_train.shape[1], 1))"
   ]
  },
  {
   "cell_type": "code",
   "execution_count": 12,
   "metadata": {
    "collapsed": false,
    "pycharm": {
     "name": "#%%\n"
    }
   },
   "outputs": [
    {
     "data": {
      "text/plain": "<Figure size 432x288 with 1 Axes>",
      "image/png": "[encoded data removed]"
     },
     "metadata": {
      "needs_background": "light"
     },
     "output_type": "display_data"
    },
    {
     "data": {
      "text/plain": "<Figure size 432x288 with 1 Axes>",
      "image/png": "[encoded data removed]"
     },
     "metadata": {
      "needs_background": "light"
     },
     "output_type": "display_data"
    },
    {
     "name": "stdout",
     "output_type": "stream",
     "text": [
      "count: 3066, gradient norm: 9.953272603035794e-05\n"
     ]
    }
   ],
   "source": [
    "lm = reg.RegressionOpt(\n",
    "    max_iter=5000,\n",
    "    w=w_init,\n",
    "    X_train=X_train,\n",
    "    y_train=y_train,\n",
    "    X_test=X_test,\n",
    "    y_test=y_test,\n",
    ")\n",
    "w = lm.fit_gd()\n",
    "\n",
    "loss_func_list = lm.loss_func_list\n",
    "grad_norm_list = lm.grad_norm_list\n",
    "\n",
    "plot_data(lm)\n",
    "\n",
    "print(f'count: {lm.count}, gradient norm: {lm.grad_norm_list[-1]}')"
   ]
  },
  {
   "cell_type": "code",
   "execution_count": 13,
   "metadata": {
    "collapsed": false,
    "pycharm": {
     "name": "#%%\n"
    }
   },
   "outputs": [
    {
     "data": {
      "text/plain": "<Figure size 432x288 with 1 Axes>",
      "image/png": "[encoded data removed]"
     },
     "metadata": {
      "needs_background": "light"
     },
     "output_type": "display_data"
    },
    {
     "data": {
      "text/plain": "<Figure size 432x288 with 1 Axes>",
      "image/png": "[encoded data removed]"
     },
     "metadata": {
      "needs_background": "light"
     },
     "output_type": "display_data"
    },
    {
     "name": "stdout",
     "output_type": "stream",
     "text": [
      "count: 2, gradient norm: 0.0\n"
     ]
    }
   ],
   "source": [
    "lm = reg.RegressionOpt(\n",
    "    max_iter=100,\n",
    "    step_size=1,\n",
    "    w=w_init,\n",
    "    X_train=X_train,\n",
    "    y_train=y_train,\n",
    "    X_test=X_test,\n",
    "    y_test=y_test,\n",
    ")\n",
    "\n",
    "lm.fit_newton()\n",
    "\n",
    "loss_func_list = lm.loss_func_list\n",
    "grad_norm_list = lm.grad_norm_list\n",
    "\n",
    "plot_data(lm)\n",
    "\n",
    "print(f'count: {lm.count}, gradient norm: {lm.grad_norm_list[-1]}')"
   ]
  },
  {
   "cell_type": "code",
   "execution_count": 22,
   "outputs": [
    {
     "data": {
      "text/plain": "<Figure size 432x288 with 1 Axes>",
      "image/png": "[encoded data removed]"
     },
     "metadata": {
      "needs_background": "light"
     },
     "output_type": "display_data"
    },
    {
     "data": {
      "text/plain": "<Figure size 432x288 with 1 Axes>",
      "image/png": "[encoded data removed]"
     },
     "metadata": {
      "needs_background": "light"
     },
     "output_type": "display_data"
    },
    {
     "name": "stdout",
     "output_type": "stream",
     "text": [
      "count: 965, gradient norm: 4.7065636992503704e-05\n"
     ]
    }
   ],
   "source": [
    "import regression as reg\n",
    "\n",
    "lm = reg.RegressionOpt(\n",
    "    max_iter=5000,\n",
    "    step_size=1,\n",
    "    w=w_init,\n",
    "    X_train=X_train,\n",
    "    y_train=y_train,\n",
    "    X_test=X_test,\n",
    "    y_test=y_test,\n",
    ")\n",
    "\n",
    "lm.fit_acc_gd()\n",
    "\n",
    "loss_func_list = lm.loss_func_list\n",
    "grad_norm_list = lm.grad_norm_list\n",
    "\n",
    "plot_data(lm)\n",
    "\n",
    "print(f'count: {lm.count}, gradient norm: {lm.grad_norm_list[-1]}')"
   ],
   "metadata": {
    "collapsed": false,
    "pycharm": {
     "name": "#%%\n"
    }
   }
  },
  {
   "cell_type": "code",
   "execution_count": 15,
   "outputs": [
    {
     "name": "stdout",
     "output_type": "stream",
     "text": [
      "train score: 0.49249290659878187\n",
      "test score: 0.49332469237979504\n"
     ]
    }
   ],
   "source": [
    "from sklearn.linear_model import LinearRegression\n",
    "\n",
    "lm = LinearRegression()\n",
    "lm.fit(X_train, y_train)\n",
    "# lm.coef_\n",
    "print(f'train score: {lm.score(X_train, y_train)}')\n",
    "print(f'test score: {lm.score(X_test, y_test)}')"
   ],
   "metadata": {
    "collapsed": false,
    "pycharm": {
     "name": "#%%\n"
    }
   }
  }
 ],
 "metadata": {
  "interpreter": {
   "hash": "916dbcbb3f70747c44a77c7bcd40155683ae19c65e1c03b4aa3499c5328201f1"
  },
  "kernelspec": {
   "display_name": "Python 3.8.10 64-bit",
   "language": "python",
   "name": "python3"
  },
  "language_info": {
   "codemirror_mode": {
    "name": "ipython",
    "version": 3
   },
   "file_extension": ".py",
   "mimetype": "text/x-python",
   "name": "python",
   "nbconvert_exporter": "python",
   "pygments_lexer": "ipython3",
   "version": "3.8.10"
  }
 },
 "nbformat": 4,
 "nbformat_minor": 0
}