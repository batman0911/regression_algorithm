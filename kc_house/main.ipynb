{
 "cells": [
  {
   "cell_type": "code",
   "execution_count": 15,
   "metadata": {
    "collapsed": false,
    "pycharm": {
     "name": "#%%\n"
    }
   },
   "outputs": [],
   "source": [
    "import numpy as np\n",
    "import pandas as pd\n",
    "from sklearn.model_selection import train_test_split\n",
    "import regression as reg\n",
    "import matplotlib.pyplot as plt"
   ]
  },
  {
   "cell_type": "code",
   "execution_count": 16,
   "metadata": {
    "collapsed": false,
    "pycharm": {
     "name": "#%%\n"
    }
   },
   "outputs": [],
   "source": [
    "is_terminated = True"
   ]
  },
  {
   "cell_type": "code",
   "execution_count": 17,
   "metadata": {
    "collapsed": false,
    "pycharm": {
     "name": "#%%\n"
    }
   },
   "outputs": [],
   "source": [
    "def load_data():\n",
    "    df = pd.read_csv('../data/input/kc_house_data_cleaned.csv')\n",
    "\n",
    "    X = df[df.columns[range(15)]].to_numpy()\n",
    "    one = np.ones((X.shape[0], 1))\n",
    "    X = np.concatenate((one, X), axis=1)\n",
    "    y = df['price'].to_numpy()\n",
    "    # y = (y - np.min(y)) / (np.max(y) - np.min(y))\n",
    "    y = y/1e6\n",
    "    y = y.reshape((X.shape[0], 1))\n",
    "\n",
    "    return train_test_split(X, y, test_size=0.2, random_state=42)"
   ]
  },
  {
   "cell_type": "code",
   "execution_count": 18,
   "metadata": {
    "collapsed": false,
    "pycharm": {
     "name": "#%%\n"
    }
   },
   "outputs": [
    {
     "name": "stdout",
     "output_type": "stream",
     "text": [
      "X_train: (17277, 16), y_train: (17277, 1)\n",
      "X_test: (4320, 16), y_train: (4320, 1)\n"
     ]
    }
   ],
   "source": [
    "X_train, X_test, y_train, y_test = load_data()\n",
    "print(f'X_train: {X_train.shape}, y_train: {y_train.shape}')\n",
    "print(f'X_test: {X_test.shape}, y_train: {y_test.shape}')"
   ]
  },
  {
   "cell_type": "code",
   "execution_count": 19,
   "metadata": {
    "collapsed": false,
    "pycharm": {
     "name": "#%%\n"
    }
   },
   "outputs": [],
   "source": [
    "import matplotlib.pyplot as plt\n",
    "\n",
    "def plot_data(lm: reg.RegressionOpt):\n",
    "    plt.plot(range(len(lm.loss_func_list)), lm.loss_func_list)\n",
    "    plt.title(f'Loss function', fontsize=16)\n",
    "    plt.ylabel('Value', fontsize=16)\n",
    "    plt.xlabel('Count', fontsize=16)\n",
    "    plt.show()\n",
    "\n",
    "    plt.plot(range(len(lm.grad_norm_list)), lm.grad_norm_list)\n",
    "    plt.title(f'Gradient norm', fontsize=16)\n",
    "    plt.ylabel('Value', fontsize=16)\n",
    "    plt.xlabel('Count', fontsize=16)\n",
    "    plt.show()"
   ]
  },
  {
   "cell_type": "code",
   "execution_count": 20,
   "metadata": {
    "collapsed": false,
    "pycharm": {
     "name": "#%%\n"
    }
   },
   "outputs": [],
   "source": [
    "def save_data(lm: reg.RegressionOpt):\n",
    "    d = {\n",
    "        'loss_func_list': lm.loss_func_list,\n",
    "        'grad_norm_list': lm.grad_norm_list\n",
    "    }\n",
    "\n",
    "    df = pd.DataFrame(data=d)\n",
    "\n",
    "    file_name = 'lf_n_grn_' + str(lm.solver) + '_' + str(lm.step_size) + '.csv'\n",
    "    df.to_csv('../data/output/' + file_name, index=False)"
   ]
  },
  {
   "cell_type": "code",
   "execution_count": 21,
   "metadata": {
    "collapsed": false,
    "pycharm": {
     "name": "#%%\n"
    }
   },
   "outputs": [],
   "source": [
    "w_init = np.repeat(0, X_train.shape[1]).reshape((X_train.shape[1], 1))"
   ]
  },
  {
   "cell_type": "markdown",
   "metadata": {
    "collapsed": false,
    "pycharm": {
     "name": "#%% md\n"
    }
   },
   "source": [
    "GD method"
   ]
  },
  {
   "cell_type": "code",
   "execution_count": 55,
   "metadata": {
    "collapsed": false,
    "pycharm": {
     "name": "#%%\n"
    }
   },
   "outputs": [
    {
     "name": "stdout",
     "output_type": "stream",
     "text": [
      "gd time: 6.334485054016113\n"
     ]
    }
   ],
   "source": [
    "import time\n",
    "\n",
    "start = time.time()\n",
    "\n",
    "lm = reg.RegressionOpt(\n",
    "    solver='gd',\n",
    "    max_iter=10000,\n",
    "    w=w_init,\n",
    "    step_size=1,\n",
    "    X_train=X_train,\n",
    "    y_train=y_train,\n",
    "    X_test=X_test,\n",
    "    y_test=y_test,\n",
    "    terminate=is_terminated\n",
    ")\n",
    "\n",
    "w = lm.fit_gd()\n",
    "\n",
    "end = time.time()\n",
    "\n",
    "print(f'gd time: {end - start}')\n",
    "# plot_data(lm)\n",
    "\n",
    "# save_data(lm)\n",
    "\n",
    "# print(f'count: {lm.count}, gradient norm: {lm.grad_norm_list[-1]}, loss func: {lm.loss_func_list[-1]}')\n",
    "# print(lm.w)"
   ]
  },
  {
   "cell_type": "markdown",
   "metadata": {
    "collapsed": false,
    "pycharm": {
     "name": "#%% md\n"
    }
   },
   "source": [
    "Newton method"
   ]
  },
  {
   "cell_type": "code",
   "execution_count": 52,
   "metadata": {
    "collapsed": false,
    "pycharm": {
     "name": "#%%\n"
    }
   },
   "outputs": [
    {
     "name": "stdout",
     "output_type": "stream",
     "text": [
      "time: 0.007977962493896484\n"
     ]
    }
   ],
   "source": [
    "import time\n",
    "\n",
    "start = time.time()\n",
    "\n",
    "lm = reg.RegressionOpt(\n",
    "    solver='newton',\n",
    "    max_iter=20,\n",
    "    step_size=1,\n",
    "    w=w_init,\n",
    "    X_train=X_train,\n",
    "    y_train=y_train,\n",
    "    X_test=X_test,\n",
    "    y_test=y_test,\n",
    "    terminate=is_terminated\n",
    ")\n",
    "\n",
    "lm.fit_newton()\n",
    "\n",
    "end = time.time()\n",
    "\n",
    "print(f'time: {end - start}')\n",
    "\n",
    "# plot_data(lm)\n",
    "# save_data(lm)\n",
    "\n",
    "# print(f'count: {lm.count}, gradient norm: {lm.grad_norm_list[-1]}, loss func: {lm.loss_func_list[-1]}')"
   ]
  },
  {
   "cell_type": "markdown",
   "metadata": {
    "collapsed": false,
    "pycharm": {
     "name": "#%% md\n"
    }
   },
   "source": [
    "Accelerated GD method"
   ]
  },
  {
   "cell_type": "code",
   "execution_count": 48,
   "metadata": {
    "collapsed": false,
    "pycharm": {
     "name": "#%%\n"
    }
   },
   "outputs": [
    {
     "name": "stdout",
     "output_type": "stream",
     "text": [
      "time: 0.5395572185516357\n"
     ]
    }
   ],
   "source": [
    "import regression as reg\n",
    "\n",
    "import time\n",
    "start = time.time()\n",
    "\n",
    "lm = reg.RegressionOpt(\n",
    "    solver='agd',\n",
    "    max_iter=10000,\n",
    "    step_size=0.5,\n",
    "    w=w_init,\n",
    "    X_train=X_train,\n",
    "    y_train=y_train,\n",
    "    X_test=X_test,\n",
    "    y_test=y_test,\n",
    "    terminate=is_terminated\n",
    ")\n",
    "\n",
    "lm.fit_acc_gd()\n",
    "\n",
    "end = time.time()\n",
    "\n",
    "print(f'time: {end - start}')\n",
    "\n",
    "# plot_data(lm)\n",
    "# save_data(lm)\n",
    "\n",
    "# print(f'count: {lm.count}, gradient norm: {lm.grad_norm_list[-1]}, loss func: {lm.loss_func_list[-1]}')\n",
    "# print(lm.w)"
   ]
  },
  {
   "cell_type": "code",
   "execution_count": 25,
   "metadata": {
    "collapsed": false,
    "pycharm": {
     "name": "#%%\n"
    }
   },
   "outputs": [],
   "source": [
    "# delta = 1e-14\n",
    "# t0 = 2e-12\n",
    "# t = []\n",
    "# for i in range(100):\n",
    "#     t.append(t0 + i * delta)\n",
    "#\n",
    "# for step in t:\n",
    "#     lm = reg.RegressionOpt(\n",
    "#     solver='gd',\n",
    "#     max_iter=500,\n",
    "#     step_size=step,\n",
    "#     w=w_init,\n",
    "#     X_train=X_train,\n",
    "#     y_train=y_train,\n",
    "#     X_test=X_test,\n",
    "#     y_test=y_test,\n",
    "#     terminate=True\n",
    "#     )\n",
    "#\n",
    "#     lm.fit_gd()\n",
    "#\n",
    "#     print(f'step size: {step}, count: {lm.count}, gradient norm: {lm.grad_norm_list[-1]}, loss function: {lm.loss_func_list[-1]}')\n"
   ]
  },
  {
   "cell_type": "markdown",
   "metadata": {
    "collapsed": false,
    "pycharm": {
     "name": "#%% md\n"
    }
   },
   "source": [
    "GD with backtracking"
   ]
  },
  {
   "cell_type": "code",
   "execution_count": 45,
   "metadata": {
    "collapsed": false,
    "pycharm": {
     "name": "#%%\n"
    }
   },
   "outputs": [
    {
     "name": "stdout",
     "output_type": "stream",
     "text": [
      "gd time: 1.0643775463104248\n"
     ]
    }
   ],
   "source": [
    "import regression as reg\n",
    "\n",
    "import time\n",
    "\n",
    "start = time.time()\n",
    "\n",
    "lm = reg.RegressionOpt(\n",
    "    solver='bgd',\n",
    "    backtracking=True,\n",
    "    max_iter=10000,\n",
    "    step_size=128,\n",
    "    alpha=0.5,\n",
    "    beta=0.5,\n",
    "    w=w_init,\n",
    "    X_train=X_train,\n",
    "    y_train=y_train,\n",
    "    X_test=X_test,\n",
    "    y_test=y_test,\n",
    "    terminate=is_terminated\n",
    ")\n",
    "\n",
    "lm.fit_gd()\n",
    "\n",
    "end = time.time()\n",
    "\n",
    "print(f'gd time: {end - start}')\n",
    "\n",
    "# plot_data(lm)\n",
    "# save_data(lm)\n",
    "\n",
    "# print(f'count: {lm.count}, inner_count: {lm.inner_count}, gradient norm: {lm.grad_norm_list[-1]}, loss func: {lm.loss_func_list[-1]}')\n",
    "# print(lm.w)"
   ]
  },
  {
   "cell_type": "markdown",
   "metadata": {
    "collapsed": false,
    "pycharm": {
     "name": "#%% md\n"
    }
   },
   "source": [
    "Accelerated GD with backtracking"
   ]
  },
  {
   "cell_type": "code",
   "execution_count": 27,
   "metadata": {
    "collapsed": false,
    "pycharm": {
     "name": "#%%\n"
    }
   },
   "outputs": [],
   "source": [
    "# import regression as reg\n",
    "#\n",
    "# t = [4e-13]\n",
    "# for i in range(25):\n",
    "#     t.append(1.01 * t[i])\n",
    "#\n",
    "# # print(t)\n",
    "#\n",
    "# for step in t:\n",
    "#     lm = reg.RegressionOpt(\n",
    "#         backtracking=True,\n",
    "#         max_iter=500,\n",
    "#         step_size=step,\n",
    "#         alpha=0.5,\n",
    "#         beta=0.5,\n",
    "#         w=w_init,\n",
    "#         X_train=X_train,\n",
    "#         y_train=y_train,\n",
    "#         X_test=X_test,\n",
    "#         y_test=y_test,\n",
    "#         terminate=True\n",
    "#     )\n",
    "#\n",
    "#     lm.fit_acc_gd()\n",
    "#     # plot_data(lm)\n",
    "#\n",
    "#     print(f'step size: {step}, count: {lm.count}, gradient norm: {lm.grad_norm_list[-1]}, loss function: {lm.loss_func_list[-1]}')"
   ]
  },
  {
   "cell_type": "code",
   "execution_count": 43,
   "metadata": {
    "collapsed": false,
    "pycharm": {
     "name": "#%%\n"
    }
   },
   "outputs": [
    {
     "name": "stdout",
     "output_type": "stream",
     "text": [
      "gd time: 0.45752763748168945\n",
      "step size: 3, count: 161, inner_count: 314, gradient norm: 9.524939212289444e-05, loss function: 0.023215251019049313\n"
     ]
    }
   ],
   "source": [
    "import time\n",
    "\n",
    "start = time.time()\n",
    "\n",
    "lm = reg.RegressionOpt(\n",
    "    solver='agd_bt',\n",
    "    backtracking=True,\n",
    "    max_iter=10000,\n",
    "    step_size=3,\n",
    "    alpha=0.5,\n",
    "    beta=0.5,\n",
    "    w=w_init,\n",
    "    X_train=X_train,\n",
    "    y_train=y_train,\n",
    "    X_test=X_test,\n",
    "    y_test=y_test,\n",
    "    terminate=is_terminated\n",
    ")\n",
    "\n",
    "lm.fit_acc_gd()\n",
    "\n",
    "end = time.time()\n",
    "\n",
    "print(f'gd time: {end - start}')\n",
    "\n",
    "# plot_data(lm)\n",
    "# save_data(lm)\n",
    "\n",
    "print(f'step size: {lm.step_size}, count: {lm.count}, inner_count: {lm.inner_count}, gradient norm: {lm.grad_norm_list[-1]}, loss function: {lm.loss_func_list[-1]}')"
   ]
  },
  {
   "cell_type": "code",
   "execution_count": 29,
   "metadata": {
    "collapsed": false,
    "pycharm": {
     "name": "#%%\n"
    }
   },
   "outputs": [],
   "source": [
    "# delta = 1e-11\n",
    "# t0 = 6.251678e-4\n",
    "# t = []\n",
    "# for i in range(50):\n",
    "#     t.append(t0 + i * delta)\n",
    "# loop = 0\n",
    "# for step in t:\n",
    "#     loop += 1\n",
    "#     lm = reg.RegressionOpt(\n",
    "#     solver='agd_bt',\n",
    "#     backtracking=True,\n",
    "#     max_iter=50,\n",
    "#     step_size=step,\n",
    "#     alpha=0.5,\n",
    "#     beta=0.5,\n",
    "#     w=w_init,\n",
    "#     X_train=X_train,\n",
    "#     y_train=y_train,\n",
    "#     X_test=X_test,\n",
    "#     y_test=y_test,\n",
    "#     terminate=True\n",
    "#     )\n",
    "#\n",
    "#     lm.fit_acc_gd()\n",
    "#     # plot_data(lm)\n",
    "#     # save_data(lm)\n",
    "#\n",
    "#     print(f'loop: {loop}, step size: {lm.step_size}, count: {lm.count}, inner_count: {lm.inner_count}, gradient norm: {lm.grad_norm_list[-1]}, loss function: {lm.loss_func_list[-1]}')"
   ]
  },
  {
   "cell_type": "code",
   "execution_count": 30,
   "metadata": {
    "collapsed": false,
    "pycharm": {
     "name": "#%%\n"
    }
   },
   "outputs": [],
   "source": [
    "# w = np.linalg.solve(np.dot(X_train.T, X_train), np.dot(X_train.T, y_train))\n",
    "# print(w)"
   ]
  },
  {
   "cell_type": "code",
   "execution_count": 60,
   "metadata": {
    "collapsed": false,
    "pycharm": {
     "name": "#%%\n"
    }
   },
   "outputs": [
    {
     "name": "stdout",
     "output_type": "stream",
     "text": [
      "time: 0.017824411392211914\n",
      "train score: 0.658982195856788\n",
      "test score: 0.6352020058657151\n"
     ]
    }
   ],
   "source": [
    "from sklearn.linear_model import LinearRegression\n",
    "\n",
    "import time\n",
    "\n",
    "start = time.time()\n",
    "lm = LinearRegression()\n",
    "lm.fit(X_train, y_train)\n",
    "end = time.time()\n",
    "\n",
    "print(f'time: {end - start}')\n",
    "# lm.coef_\n",
    "print(f'train score: {lm.score(X_train, y_train)}')\n",
    "print(f'test score: {lm.score(X_test, y_test)}')"
   ]
  },
  {
   "cell_type": "markdown",
   "metadata": {
    "collapsed": false,
    "pycharm": {
     "name": "#%% md\n"
    }
   },
   "source": [
    "Accelerated GD with backtracking"
   ]
  },
  {
   "cell_type": "code",
   "execution_count": 32,
   "metadata": {
    "collapsed": false,
    "pycharm": {
     "name": "#%%\n"
    }
   },
   "outputs": [],
   "source": [
    "# import regression as reg\n",
    "#\n",
    "# t = [4e-13]\n",
    "# for i in range(25):\n",
    "#     t.append(1.01 * t[i])\n",
    "#\n",
    "# # print(t)\n",
    "#\n",
    "# for step in t:\n",
    "#     lm = reg.RegressionOpt(\n",
    "#         backtracking=True,\n",
    "#         max_iter=500,\n",
    "#         step_size=step,\n",
    "#         alpha=0.5,\n",
    "#         beta=0.5,\n",
    "#         w=w_init,\n",
    "#         X_train=X_train,\n",
    "#         y_train=y_train,\n",
    "#         X_test=X_test,\n",
    "#         y_test=y_test,\n",
    "#         terminate=True\n",
    "#     )\n",
    "#\n",
    "#     lm.fit_acc_gd()\n",
    "#     # plot_data(lm)\n",
    "#\n",
    "#     print(f'step size: {step}, count: {lm.count}, gradient norm: {lm.grad_norm_list[-1]}, loss function: {lm.loss_func_list[-1]}')"
   ]
  },
  {
   "cell_type": "code",
   "execution_count": 33,
   "metadata": {
    "collapsed": false,
    "pycharm": {
     "name": "#%%\n"
    }
   },
   "outputs": [],
   "source": [
    "# lm = reg.RegressionOpt(\n",
    "#     solver='agd_bt',\n",
    "#     backtracking=True,\n",
    "#     max_iter=10000,\n",
    "#     step_size=3,\n",
    "#     alpha=0.5,\n",
    "#     beta=0.5,\n",
    "#     w=w_init,\n",
    "#     X_train=X_train,\n",
    "#     y_train=y_train,\n",
    "#     X_test=X_test,\n",
    "#     y_test=y_test,\n",
    "#     terminate=is_terminated\n",
    "# )\n",
    "\n",
    "# lm.fit_acc_gd()\n",
    "# # plot_data(lm)\n",
    "# save_data(lm)\n",
    "\n",
    "# print(f'step size: {lm.step_size}, count: {lm.count}, inner_count: {lm.inner_count}, gradient norm: {lm.grad_norm_list[-1]}, loss function: {lm.loss_func_list[-1]}')"
   ]
  },
  {
   "cell_type": "code",
   "execution_count": 34,
   "metadata": {
    "collapsed": false,
    "pycharm": {
     "name": "#%%\n"
    }
   },
   "outputs": [],
   "source": [
    "# delta = 1e-11\n",
    "# t0 = 6.251678e-4\n",
    "# t = []\n",
    "# for i in range(50):\n",
    "#     t.append(t0 + i * delta)\n",
    "# loop = 0\n",
    "# for step in t:\n",
    "#     loop += 1\n",
    "#     lm = reg.RegressionOpt(\n",
    "#     solver='agd_bt',\n",
    "#     backtracking=True,\n",
    "#     max_iter=50,\n",
    "#     step_size=step,\n",
    "#     alpha=0.5,\n",
    "#     beta=0.5,\n",
    "#     w=w_init,\n",
    "#     X_train=X_train,\n",
    "#     y_train=y_train,\n",
    "#     X_test=X_test,\n",
    "#     y_test=y_test,\n",
    "#     terminate=True\n",
    "#     )\n",
    "#\n",
    "#     lm.fit_acc_gd()\n",
    "#     # plot_data(lm)\n",
    "#     # save_data(lm)\n",
    "#\n",
    "#     print(f'loop: {loop}, step size: {lm.step_size}, count: {lm.count}, inner_count: {lm.inner_count}, gradient norm: {lm.grad_norm_list[-1]}, loss function: {lm.loss_func_list[-1]}')"
   ]
  },
  {
   "cell_type": "code",
   "execution_count": 35,
   "metadata": {
    "collapsed": false,
    "pycharm": {
     "name": "#%%\n"
    }
   },
   "outputs": [],
   "source": [
    "# w = np.linalg.solve(np.dot(X_train.T, X_train), np.dot(X_train.T, y_train))\n",
    "# print(w)"
   ]
  },
  {
   "cell_type": "code",
   "execution_count": 57,
   "metadata": {
    "collapsed": false,
    "pycharm": {
     "name": "#%%\n"
    }
   },
   "outputs": [
    {
     "name": "stdout",
     "output_type": "stream",
     "text": [
      "train score: 0.658982195856788\n",
      "test score: 0.6352020058657151\n"
     ]
    }
   ],
   "source": [
    "from sklearn.linear_model import LinearRegression\n",
    "\n",
    "lm = LinearRegression()\n",
    "lm.fit(X_train, y_train)\n",
    "# lm.coef_\n",
    "print(f'train score: {lm.score(X_train, y_train)}')\n",
    "print(f'test score: {lm.score(X_test, y_test)}')"
   ]
  },
  {
   "cell_type": "code",
   "execution_count": 37,
   "metadata": {
    "collapsed": false,
    "pycharm": {
     "name": "#%%\n"
    }
   },
   "outputs": [],
   "source": [
    "# import regression as reg\n",
    "#\n",
    "# t = [4e-13]\n",
    "# for i in range(25):\n",
    "#     t.append(1.01 * t[i])\n",
    "#\n",
    "# # print(t)\n",
    "#\n",
    "# for step in t:\n",
    "#     lm = reg.RegressionOpt(\n",
    "#         backtracking=True,\n",
    "#         max_iter=500,\n",
    "#         step_size=step,\n",
    "#         alpha=0.5,\n",
    "#         beta=0.5,\n",
    "#         w=w_init,\n",
    "#         X_train=X_train,\n",
    "#         y_train=y_train,\n",
    "#         X_test=X_test,\n",
    "#         y_test=y_test,\n",
    "#         terminate=True\n",
    "#     )\n",
    "#\n",
    "#     lm.fit_acc_gd()\n",
    "#     # plot_data(lm)\n",
    "#\n",
    "#     print(f'step size: {step}, count: {lm.count}, gradient norm: {lm.grad_norm_list[-1]}, loss function: {lm.loss_func_list[-1]}')"
   ]
  },
  {
   "cell_type": "code",
   "execution_count": 38,
   "metadata": {
    "collapsed": false,
    "pycharm": {
     "name": "#%%\n"
    }
   },
   "outputs": [],
   "source": [
    "# lm = reg.RegressionOpt(\n",
    "#     solver='agd_bt',\n",
    "#     backtracking=True,\n",
    "#     max_iter=50,\n",
    "#     step_size=6.25158e-4,\n",
    "#     alpha=0.5,\n",
    "#     beta=0.5,\n",
    "#     w=w_init,\n",
    "#     X_train=X_train,\n",
    "#     y_train=y_train,\n",
    "#     X_test=X_test,\n",
    "#     y_test=y_test,\n",
    "#     terminate=True\n",
    "# )\n",
    "\n",
    "# lm.fit_acc_gd()\n",
    "# # plot_data(lm)\n",
    "# # save_data(lm)\n",
    "\n",
    "# print(f'step size: {lm.step_size}, count: {lm.count}, inner_count: {lm.inner_count}, gradient norm: {lm.grad_norm_list[-1]}, loss function: {lm.loss_func_list[-1]}')"
   ]
  },
  {
   "cell_type": "code",
   "execution_count": 39,
   "metadata": {
    "collapsed": false,
    "pycharm": {
     "name": "#%%\n"
    }
   },
   "outputs": [],
   "source": [
    "# delta = 1e-11\n",
    "# t0 = 6.251678e-4\n",
    "# t = []\n",
    "# for i in range(50):\n",
    "#     t.append(t0 + i * delta)\n",
    "# loop = 0\n",
    "# for step in t:\n",
    "#     loop += 1\n",
    "#     lm = reg.RegressionOpt(\n",
    "#     solver='agd_bt',\n",
    "#     backtracking=True,\n",
    "#     max_iter=50,\n",
    "#     step_size=step,\n",
    "#     alpha=0.5,\n",
    "#     beta=0.5,\n",
    "#     w=w_init,\n",
    "#     X_train=X_train,\n",
    "#     y_train=y_train,\n",
    "#     X_test=X_test,\n",
    "#     y_test=y_test,\n",
    "#     terminate=True\n",
    "#     )\n",
    "\n",
    "#     lm.fit_acc_gd()\n",
    "#     # plot_data(lm)\n",
    "#     # save_data(lm)\n",
    "\n",
    "#     print(f'loop: {loop}, step size: {lm.step_size}, count: {lm.count}, inner_count: {lm.inner_count}, gradient norm: {lm.grad_norm_list[-1]}, loss function: {lm.loss_func_list[-1]}')"
   ]
  },
  {
   "cell_type": "code",
   "execution_count": 40,
   "metadata": {
    "collapsed": false,
    "pycharm": {
     "name": "#%%\n"
    }
   },
   "outputs": [
    {
     "name": "stdout",
     "output_type": "stream",
     "text": [
      "train score: 0.658982195856788\n",
      "test score: 0.6352020058657151\n"
     ]
    }
   ],
   "source": [
    "from sklearn.linear_model import LinearRegression\n",
    "\n",
    "lm = LinearRegression()\n",
    "lm.fit(X_train, y_train)\n",
    "# lm.coef_\n",
    "print(f'train score: {lm.score(X_train, y_train)}')\n",
    "print(f'test score: {lm.score(X_test, y_test)}')"
   ]
  }
 ],
 "metadata": {
  "kernelspec": {
   "display_name": "Python 3.10.4 64-bit",
   "language": "python",
   "name": "python3"
  },
  "language_info": {
   "codemirror_mode": {
    "name": "ipython",
    "version": 3
   },
   "file_extension": ".py",
   "mimetype": "text/x-python",
   "name": "python",
   "nbconvert_exporter": "python",
   "pygments_lexer": "ipython3",
   "version": "3.10.4"
  },
  "vscode": {
   "interpreter": {
    "hash": "e948c4b38b728f096d80b971267aaacaadf037cb9311af5e2ce81141e3cf0617"
   }
  }
 },
 "nbformat": 4,
 "nbformat_minor": 0
}
