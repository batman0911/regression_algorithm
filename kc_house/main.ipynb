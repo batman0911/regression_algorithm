{
 "cells": [
  {
   "cell_type": "code",
   "execution_count": 1,
   "metadata": {
    "collapsed": false,
    "pycharm": {
     "name": "#%%\n"
    }
   },
   "outputs": [],
   "source": [
    "import time\n",
    "\n",
    "import numpy as np\n",
    "import pandas as pd\n",
    "from sklearn.model_selection import train_test_split\n",
    "import regression as reg\n",
    "import matplotlib.pyplot as plt"
   ]
  },
  {
   "cell_type": "code",
   "execution_count": 2,
   "metadata": {
    "collapsed": false,
    "pycharm": {
     "name": "#%%\n"
    }
   },
   "outputs": [],
   "source": [
    "is_terminated = True\n",
    "bench_mode = True"
   ]
  },
  {
   "cell_type": "code",
   "execution_count": 3,
   "metadata": {
    "collapsed": false,
    "pycharm": {
     "name": "#%%\n"
    }
   },
   "outputs": [],
   "source": [
    "def load_data():\n",
    "    df = pd.read_csv('../data/input/kc_house_data_cleaned.csv')\n",
    "\n",
    "    X = df[df.columns[range(15)]].to_numpy()\n",
    "    one = np.ones((X.shape[0], 1))\n",
    "    X = np.concatenate((one, X), axis=1)\n",
    "    y = df['price'].to_numpy()\n",
    "    # y = (y - np.min(y)) / (np.max(y) - np.min(y))\n",
    "    y = y/1e6\n",
    "    y = y.reshape((X.shape[0], 1))\n",
    "\n",
    "    return train_test_split(X, y, test_size=0.2, random_state=42)"
   ]
  },
  {
   "cell_type": "code",
   "execution_count": 4,
   "metadata": {
    "collapsed": false,
    "pycharm": {
     "name": "#%%\n"
    }
   },
   "outputs": [
    {
     "name": "stdout",
     "output_type": "stream",
     "text": [
      "X_train: (17277, 16), y_train: (17277, 1)\n",
      "X_test: (4320, 16), y_train: (4320, 1)\n"
     ]
    }
   ],
   "source": [
    "X_train, X_test, y_train, y_test = load_data()\n",
    "print(f'X_train: {X_train.shape}, y_train: {y_train.shape}')\n",
    "print(f'X_test: {X_test.shape}, y_train: {y_test.shape}')"
   ]
  },
  {
   "cell_type": "code",
   "execution_count": 5,
   "metadata": {
    "collapsed": false,
    "pycharm": {
     "name": "#%%\n"
    }
   },
   "outputs": [],
   "source": [
    "import matplotlib.pyplot as plt\n",
    "\n",
    "def plot_data(lm: reg.RegressionOpt):\n",
    "    plt.plot(range(len(lm.loss_func_list)), lm.loss_func_list)\n",
    "    plt.title(f'Loss function', fontsize=16)\n",
    "    plt.ylabel('Value', fontsize=16)\n",
    "    plt.xlabel('Count', fontsize=16)\n",
    "    plt.show()\n",
    "\n",
    "    plt.plot(range(len(lm.grad_norm_list)), lm.grad_norm_list)\n",
    "    plt.title(f'Gradient norm', fontsize=16)\n",
    "    plt.ylabel('Value', fontsize=16)\n",
    "    plt.xlabel('Count', fontsize=16)\n",
    "    plt.show()"
   ]
  },
  {
   "cell_type": "code",
   "execution_count": 6,
   "metadata": {
    "collapsed": false,
    "pycharm": {
     "name": "#%%\n"
    }
   },
   "outputs": [],
   "source": [
    "def save_data(lm: reg.RegressionOpt):\n",
    "    d = {\n",
    "        'loss_func_list': lm.loss_func_list,\n",
    "        'grad_norm_list': lm.grad_norm_list\n",
    "    }\n",
    "\n",
    "    df = pd.DataFrame(data=d)\n",
    "\n",
    "    file_name = 'lf_n_grn_' + str(lm.solver) + '_' + str(lm.step_size) + '.csv'\n",
    "    df.to_csv('../data/output/' + file_name, index=False)"
   ]
  },
  {
   "cell_type": "code",
   "execution_count": 7,
   "metadata": {
    "collapsed": false,
    "pycharm": {
     "name": "#%%\n"
    }
   },
   "outputs": [],
   "source": [
    "w_init = np.repeat(0, X_train.shape[1]).reshape((X_train.shape[1], 1))"
   ]
  },
  {
   "cell_type": "markdown",
   "metadata": {
    "collapsed": false,
    "pycharm": {
     "name": "#%% md\n"
    }
   },
   "source": [
    "GD method"
   ]
  },
  {
   "cell_type": "code",
   "execution_count": 8,
   "metadata": {
    "collapsed": false,
    "pycharm": {
     "name": "#%%\n"
    }
   },
   "outputs": [
    {
     "name": "stdout",
     "output_type": "stream",
     "text": [
      "time: 0.2704741954803467\n",
      "count: 4358, gradient norm: 0.7832325359150619, loss func: 0.21468643959334224\n"
     ]
    }
   ],
   "source": [
    "start = time.time()\n",
    "\n",
    "lm = reg.RegressionOpt(\n",
    "    solver='gd',\n",
    "    max_iter=10000,\n",
    "    w=w_init,\n",
    "    step_size=1,\n",
    "    X_train=X_train,\n",
    "    y_train=y_train,\n",
    "    X_test=X_test,\n",
    "    y_test=y_test,\n",
    "    terminate=is_terminated,\n",
    "    bench_mode=bench_mode\n",
    ")\n",
    "\n",
    "w = lm.fit_gd()\n",
    "\n",
    "end = time.time()\n",
    "\n",
    "# plot_data(lm)\n",
    "\n",
    "# save_data(lm)\n",
    "print(f'time: {end - start}')\n",
    "print(f'count: {lm.count}, gradient norm: {lm.grad_norm_list[-1]}, loss func: {lm.loss_func_list[-1]}')\n",
    "# print(lm.w)"
   ]
  },
  {
   "cell_type": "markdown",
   "metadata": {
    "collapsed": false,
    "pycharm": {
     "name": "#%% md\n"
    }
   },
   "source": [
    "Newton method"
   ]
  },
  {
   "cell_type": "code",
   "execution_count": 18,
   "metadata": {
    "collapsed": false,
    "pycharm": {
     "name": "#%%\n"
    }
   },
   "outputs": [
    {
     "name": "stdout",
     "output_type": "stream",
     "text": [
      "time: 134.07388353347778\n",
      "count: 2, gradient norm: 0.7832325359150619, loss func: 0.21468643959334224\n"
     ]
    }
   ],
   "source": [
    "start = time.time()\n",
    "\n",
    "lm = reg.RegressionOpt(\n",
    "    solver='newton',\n",
    "    max_iter=10000,\n",
    "    step_size=1,\n",
    "    w=w_init,\n",
    "    X_train=X_train,\n",
    "    y_train=y_train,\n",
    "    X_test=X_test,\n",
    "    y_test=y_test,\n",
    "    terminate=is_terminated,\n",
    "    bench_mode=bench_mode\n",
    ")\n",
    "\n",
    "lm.fit_newton()\n",
    "\n",
    "end = time.time()\n",
    "\n",
    "# plot_data(lm)\n",
    "# save_data(lm)\n",
    "\n",
    "print(f'time: {end - start}')\n",
    "print(f'count: {lm.count}, gradient norm: {lm.grad_norm_list[-1]}, loss func: {lm.loss_func_list[-1]}')"
   ]
  },
  {
   "cell_type": "markdown",
   "metadata": {
    "collapsed": false,
    "pycharm": {
     "name": "#%% md\n"
    }
   },
   "source": [
    "Accelerated GD method"
   ]
  },
  {
   "cell_type": "code",
   "execution_count": 10,
   "metadata": {
    "collapsed": false,
    "pycharm": {
     "name": "#%%\n"
    }
   },
   "outputs": [
    {
     "name": "stdout",
     "output_type": "stream",
     "text": [
      "time: 0.013960599899291992\n",
      "count: 278, gradient norm: 0.7832325359150619, loss func: 0.21468643959334224\n"
     ]
    }
   ],
   "source": [
    "start = time.time()\n",
    "\n",
    "lm = reg.RegressionOpt(\n",
    "    solver='agd',\n",
    "    max_iter=10000,\n",
    "    step_size=0.6,\n",
    "    w=w_init,\n",
    "    X_train=X_train,\n",
    "    y_train=y_train,\n",
    "    X_test=X_test,\n",
    "    y_test=y_test,\n",
    "    terminate=is_terminated,\n",
    "    bench_mode=bench_mode\n",
    ")\n",
    "\n",
    "lm.fit_acc_gd()\n",
    "\n",
    "end = time.time()\n",
    "\n",
    "# plot_data(lm)\n",
    "# save_data(lm)\n",
    "\n",
    "print(f'time: {end - start}')\n",
    "print(f'count: {lm.count}, gradient norm: {lm.grad_norm_list[-1]}, loss func: {lm.loss_func_list[-1]}')\n",
    "# print(lm.w)"
   ]
  },
  {
   "cell_type": "code",
   "execution_count": 11,
   "metadata": {
    "collapsed": false,
    "pycharm": {
     "name": "#%%\n"
    }
   },
   "outputs": [],
   "source": [
    "# delta = 1e-14\n",
    "# t0 = 2e-12\n",
    "# t = []\n",
    "# for i in range(100):\n",
    "#     t.append(t0 + i * delta)\n",
    "#\n",
    "# for step in t:\n",
    "#     lm = reg.RegressionOpt(\n",
    "#     solver='gd',\n",
    "#     max_iter=500,\n",
    "#     step_size=step,\n",
    "#     w=w_init,\n",
    "#     X_train=X_train,\n",
    "#     y_train=y_train,\n",
    "#     X_test=X_test,\n",
    "#     y_test=y_test,\n",
    "#     terminate=True\n",
    "#     )\n",
    "#\n",
    "#     lm.fit_gd()\n",
    "#\n",
    "#     print(f'step size: {step}, count: {lm.count}, gradient norm: {lm.grad_norm_list[-1]}, loss function: {lm.loss_func_list[-1]}')\n"
   ]
  },
  {
   "cell_type": "markdown",
   "metadata": {
    "collapsed": false,
    "pycharm": {
     "name": "#%% md\n"
    }
   },
   "source": [
    "GD with backtracking"
   ]
  },
  {
   "cell_type": "code",
   "execution_count": 12,
   "metadata": {
    "collapsed": false,
    "pycharm": {
     "name": "#%%\n"
    }
   },
   "outputs": [
    {
     "name": "stdout",
     "output_type": "stream",
     "text": [
      "time: 1.631587266921997\n",
      "count: 286, inner_count: 1562, gradient norm: 9.868312630891296e-05, loss func: 0.023221719759706813\n"
     ]
    }
   ],
   "source": [
    "start = time.time()\n",
    "\n",
    "lm = reg.RegressionOpt(\n",
    "    solver='bgd',\n",
    "    backtracking=True,\n",
    "    max_iter=10000,\n",
    "    step_size=128,\n",
    "    alpha=0.5,\n",
    "    beta=0.5,\n",
    "    w=w_init,\n",
    "    X_train=X_train,\n",
    "    y_train=y_train,\n",
    "    X_test=X_test,\n",
    "    y_test=y_test,\n",
    "    terminate=is_terminated\n",
    ")\n",
    "\n",
    "lm.fit_gd()\n",
    "\n",
    "end = time.time()\n",
    "\n",
    "# plot_data(lm)\n",
    "# save_data(lm)\n",
    "\n",
    "print(f'time: {end - start}')\n",
    "print(f'count: {lm.count}, inner_count: {lm.inner_count}, gradient norm: {lm.grad_norm_list[-1]}, loss func: {lm.loss_func_list[-1]}')\n",
    "# print(lm.w)"
   ]
  },
  {
   "cell_type": "markdown",
   "metadata": {
    "collapsed": false,
    "pycharm": {
     "name": "#%% md\n"
    }
   },
   "source": [
    "Accelerated GD with backtracking"
   ]
  },
  {
   "cell_type": "code",
   "execution_count": 13,
   "metadata": {
    "collapsed": false,
    "pycharm": {
     "name": "#%%\n"
    }
   },
   "outputs": [],
   "source": [
    "# import regression as reg\n",
    "#\n",
    "# t = [4e-13]\n",
    "# for i in range(25):\n",
    "#     t.append(1.01 * t[i])\n",
    "#\n",
    "# # print(t)\n",
    "#\n",
    "# for step in t:\n",
    "#     lm = reg.RegressionOpt(\n",
    "#         backtracking=True,\n",
    "#         max_iter=500,\n",
    "#         step_size=step,\n",
    "#         alpha=0.5,\n",
    "#         beta=0.5,\n",
    "#         w=w_init,\n",
    "#         X_train=X_train,\n",
    "#         y_train=y_train,\n",
    "#         X_test=X_test,\n",
    "#         y_test=y_test,\n",
    "#         terminate=True\n",
    "#     )\n",
    "#\n",
    "#     lm.fit_acc_gd()\n",
    "#     # plot_data(lm)\n",
    "#\n",
    "#     print(f'step size: {step}, count: {lm.count}, gradient norm: {lm.grad_norm_list[-1]}, loss function: {lm.loss_func_list[-1]}')"
   ]
  },
  {
   "cell_type": "code",
   "execution_count": 14,
   "metadata": {
    "collapsed": false,
    "pycharm": {
     "name": "#%%\n"
    }
   },
   "outputs": [
    {
     "name": "stdout",
     "output_type": "stream",
     "text": [
      "time: 0.39382386207580566\n",
      "step size: 3, count: 161, inner_count: 314, gradient norm: 0.7832325359150619, loss function: 0.21468643959334224\n"
     ]
    }
   ],
   "source": [
    "start = time.time()\n",
    "\n",
    "lm = reg.RegressionOpt(\n",
    "    solver='agd_bt',\n",
    "    backtracking=True,\n",
    "    max_iter=10000,\n",
    "    step_size=3,\n",
    "    alpha=0.5,\n",
    "    beta=0.5,\n",
    "    w=w_init,\n",
    "    X_train=X_train,\n",
    "    y_train=y_train,\n",
    "    X_test=X_test,\n",
    "    y_test=y_test,\n",
    "    terminate=is_terminated,\n",
    "    bench_mode=bench_mode\n",
    ")\n",
    "\n",
    "lm.fit_acc_gd()\n",
    "\n",
    "end = time.time()\n",
    "\n",
    "# plot_data(lm)\n",
    "# save_data(lm)\n",
    "\n",
    "print(f'time: {end - start}')\n",
    "print(f'step size: {lm.step_size}, count: {lm.count}, inner_count: {lm.inner_count}, gradient norm: {lm.grad_norm_list[-1]}, loss function: {lm.loss_func_list[-1]}')"
   ]
  },
  {
   "cell_type": "code",
   "execution_count": 15,
   "metadata": {
    "collapsed": false,
    "pycharm": {
     "name": "#%%\n"
    }
   },
   "outputs": [
    {
     "name": "stdout",
     "output_type": "stream",
     "text": [
      "[[-5.56459985e-01]\n",
      " [-1.39628217e+00]\n",
      " [ 3.79679695e-01]\n",
      " [-2.86891388e+02]\n",
      " [-4.33284961e-02]\n",
      " [ 7.55194870e-02]\n",
      " [ 5.78605578e-01]\n",
      " [ 1.70338808e-01]\n",
      " [ 7.75740426e-02]\n",
      " [ 1.21555499e+00]\n",
      " [ 1.98364007e+02]\n",
      " [ 1.05815445e+02]\n",
      " [ 1.63877272e-01]\n",
      " [-5.22163597e-01]\n",
      " [ 4.35033258e-01]\n",
      " [-7.88868835e-02]]\n"
     ]
    }
   ],
   "source": [
    "w = np.linalg.solve(np.dot(X_train.T, X_train), np.dot(X_train.T, y_train))\n",
    "print(w)"
   ]
  },
  {
   "cell_type": "code",
   "execution_count": 16,
   "metadata": {
    "collapsed": false,
    "pycharm": {
     "name": "#%%\n"
    }
   },
   "outputs": [
    {
     "name": "stdout",
     "output_type": "stream",
     "text": [
      "time: 0.049143075942993164\n",
      "train score: 0.658982195856788\n",
      "test score: 0.6352020058657151\n"
     ]
    }
   ],
   "source": [
    "from sklearn.linear_model import LinearRegression\n",
    "\n",
    "start = time.time()\n",
    "lm = LinearRegression()\n",
    "lm.fit(X_train, y_train)\n",
    "end = time.time()\n",
    "# lm.coef_\n",
    "print(f'time: {end - start}')\n",
    "print(f'train score: {lm.score(X_train, y_train)}')\n",
    "print(f'test score: {lm.score(X_test, y_test)}')"
   ]
  }
 ],
 "metadata": {
  "kernelspec": {
   "display_name": "Python 3.10.4 64-bit",
   "language": "python",
   "name": "python3"
  },
  "language_info": {
   "codemirror_mode": {
    "name": "ipython",
    "version": 3
   },
   "file_extension": ".py",
   "mimetype": "text/x-python",
   "name": "python",
   "nbconvert_exporter": "python",
   "pygments_lexer": "ipython3",
   "version": "3.10.4"
  },
  "vscode": {
   "interpreter": {
    "hash": "e948c4b38b728f096d80b971267aaacaadf037cb9311af5e2ce81141e3cf0617"
   }
  }
 },
 "nbformat": 4,
 "nbformat_minor": 0
}
